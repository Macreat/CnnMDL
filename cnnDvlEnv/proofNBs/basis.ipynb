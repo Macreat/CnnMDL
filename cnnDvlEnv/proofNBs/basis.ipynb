{
  "cells": [
    {
      "cell_type": "markdown",
      "metadata": {},
      "source": [
        "# CONVOLUTIONAL NEURAL NETWORK NB (CNN-First on DL)  "
      ]
    },
    {
      "cell_type": "markdown",
      "metadata": {},
      "source": [
        "## libraries and env configuration \n"
      ]
    },
    {
      "cell_type": "code",
      "execution_count": 1,
      "metadata": {},
      "outputs": [],
      "source": [
        "#packages from tensor flow\n",
        "import tensorflow as Tf\n",
        "\n",
        "# tensor flow for optimizing the model \n",
        "\n",
        "\n",
        "# basis packages \n",
        "import os as os \n",
        "import matplotlib.pyplot as plt\n",
        "import numpy as np\n",
        "import scipy \n",
        "import ssl"
      ]
    },
    {
      "cell_type": "code",
      "execution_count": 2,
      "metadata": {},
      "outputs": [
        {
          "name": "stdout",
          "output_type": "stream",
          "text": [
            "Num GPUs Available and used :   1\n"
          ]
        }
      ],
      "source": [
        "physicalDevice = Tf.config.experimental.list_physical_devices('GPU')\n",
        "Tf.config.experimental.set_memory_growth(physicalDevice[0], True)\n",
        "print(\"Num GPUs Available and used :  \", len(physicalDevice))\n"
      ]
    },
    {
      "cell_type": "code",
      "execution_count": 3,
      "metadata": {},
      "outputs": [],
      "source": [
        "os.environ[\"TF_CPP_MIN_LOG_LEVEL\"] = '2' # Suppress TensorFlow logging (1)\t"
      ]
    },
    {
      "cell_type": "markdown",
      "metadata": {},
      "source": [
        "## data preprocessing "
      ]
    },
    {
      "cell_type": "code",
      "execution_count": 4,
      "metadata": {},
      "outputs": [],
      "source": [
        "# Load MNIST dataset\n",
        "(xTrainMnist,yTrainMnist),(xTestMnist,yTestMnist)=Tf.keras.datasets.mnist.load_data()"
      ]
    },
    {
      "cell_type": "markdown",
      "metadata": {},
      "source": [
        "### normalization "
      ]
    },
    {
      "cell_type": "code",
      "execution_count": 5,
      "metadata": {},
      "outputs": [
        {
          "data": {
            "text/plain": [
              "255"
            ]
          },
          "execution_count": 5,
          "metadata": {},
          "output_type": "execute_result"
        }
      ],
      "source": [
        "xTrainMnist.max()"
      ]
    },
    {
      "cell_type": "code",
      "execution_count": 6,
      "metadata": {},
      "outputs": [
        {
          "data": {
            "text/plain": [
              "255"
            ]
          },
          "execution_count": 6,
          "metadata": {},
          "output_type": "execute_result"
        }
      ],
      "source": [
        "xTestMnist.max()\n"
      ]
    },
    {
      "cell_type": "code",
      "execution_count": 7,
      "metadata": {},
      "outputs": [],
      "source": [
        "xTestMnist = xTestMnist.astype('float32') / 255 "
      ]
    },
    {
      "cell_type": "markdown",
      "metadata": {},
      "source": [
        "#### changing normalization for data train: "
      ]
    },
    {
      "cell_type": "code",
      "execution_count": 8,
      "metadata": {},
      "outputs": [
        {
          "data": {
            "text/plain": [
              "' also could use : \\nmean = np.mean(xTrainMnist)\\nprint(mean)\\n'"
            ]
          },
          "execution_count": 8,
          "metadata": {},
          "output_type": "execute_result"
        }
      ],
      "source": [
        "# we normalize tghe data lessing the mean and the standar deviation to xtrain data in order to have a better performance on the training process \n",
        "\n",
        "MnistMean = xTrainMnist.mean()\n",
        "MnistStd = xTrainMnist.std()\n",
        "\n",
        "# normalize the data dividing by the sd assecuring the none zero value of the sd\n",
        "\n",
        "xTrainMnist = (xTrainMnist-MnistMean)/(MnistStd+1e-7)\n",
        "\n",
        "# also normalize the test data using mean and std from training data cause the idea is that the network doesnt know these parameters of the test set\n",
        "\n",
        "xTestMnist = (xTestMnist - MnistMean)/(MnistStd+1e-7)\n",
        "\n",
        "\"\"\" also could use : \n",
        "mean = np.mean(xTrainMnist)\n",
        "print(mean)\n",
        "\"\"\""
      ]
    },
    {
      "cell_type": "markdown",
      "metadata": {},
      "source": [
        "### split train data"
      ]
    },
    {
      "cell_type": "code",
      "execution_count": 9,
      "metadata": {},
      "outputs": [],
      "source": [
        "xTrainMnist, xValidMnist = xTrainMnist[5000:],xTrainMnist[:5000]\n",
        "yTrainMnist, yValidMnist = yTrainMnist[5000:],yTrainMnist[:5000]"
      ]
    },
    {
      "cell_type": "markdown",
      "metadata": {},
      "source": [
        "look dimension size"
      ]
    },
    {
      "cell_type": "code",
      "execution_count": 10,
      "metadata": {},
      "outputs": [
        {
          "data": {
            "text/plain": [
              "((55000, 28, 28), (55000,), (5000, 28, 28), (5000,), (10000, 28, 28), (10000,))"
            ]
          },
          "execution_count": 10,
          "metadata": {},
          "output_type": "execute_result"
        }
      ],
      "source": [
        "xTrainMnist.shape, yTrainMnist.shape, xValidMnist.shape, yValidMnist.shape , xTestMnist.shape, yTestMnist.shape"
      ]
    },
    {
      "cell_type": "markdown",
      "metadata": {},
      "source": [
        "### data argumentation for best performance"
      ]
    },
    {
      "cell_type": "code",
      "execution_count": 11,
      "metadata": {},
      "outputs": [],
      "source": [
        "datagen = Tf.keras.preprocessing.image.ImageDataGenerator(\n",
        "    rotation_range=10,\n",
        "    width_shift_range = 0.1,\n",
        "    height_shift_range = 0.1,\n",
        "    horizontal_flip = True,\n",
        "    vertical_flip = True\n",
        "    )"
      ]
    },
    {
      "cell_type": "markdown",
      "metadata": {},
      "source": [
        "### see number of classes/labels in order to binarize "
      ]
    },
    {
      "cell_type": "code",
      "execution_count": 12,
      "metadata": {},
      "outputs": [
        {
          "data": {
            "text/plain": [
              "10"
            ]
          },
          "execution_count": 12,
          "metadata": {},
          "output_type": "execute_result"
        }
      ],
      "source": [
        "len(np.unique(yTrainMnist)) # 10 classes"
      ]
    },
    {
      "cell_type": "markdown",
      "metadata": {},
      "source": [
        "####  binarizing the labels in order to use only categorical cross entropy without sparse \n"
      ]
    },
    {
      "cell_type": "code",
      "execution_count": 13,
      "metadata": {},
      "outputs": [],
      "source": [
        "yTrainMnist = Tf.keras.utils.to_categorical(yTrainMnist,num_classes=10)\n",
        "yTestMnist = Tf.keras.utils.to_categorical(yTestMnist, num_classes= 10)\n",
        "yValidMnist = Tf.keras.utils.to_categorical(yValidMnist, num_classes=10)\n"
      ]
    },
    {
      "cell_type": "code",
      "execution_count": 14,
      "metadata": {},
      "outputs": [
        {
          "data": {
            "text/plain": [
              "array([0., 0., 0., 0., 0., 0., 0., 1., 0., 0.], dtype=float32)"
            ]
          },
          "execution_count": 14,
          "metadata": {},
          "output_type": "execute_result"
        }
      ],
      "source": [
        "yTrainMnist[0] # one hot encoding of the labels"
      ]
    },
    {
      "cell_type": "code",
      "execution_count": 15,
      "metadata": {},
      "outputs": [
        {
          "name": "stdout",
          "output_type": "stream",
          "text": [
            "[[0. 0. 0. 0. 0. 0. 0. 1. 0. 0.]\n",
            " [0. 0. 0. 1. 0. 0. 0. 0. 0. 0.]\n",
            " [0. 0. 0. 0. 1. 0. 0. 0. 0. 0.]\n",
            " [0. 0. 0. 0. 0. 0. 1. 0. 0. 0.]\n",
            " [0. 1. 0. 0. 0. 0. 0. 0. 0. 0.]\n",
            " [0. 0. 0. 0. 0. 0. 0. 0. 1. 0.]\n",
            " [0. 1. 0. 0. 0. 0. 0. 0. 0. 0.]\n",
            " [1. 0. 0. 0. 0. 0. 0. 0. 0. 0.]\n",
            " [0. 0. 0. 0. 0. 0. 0. 0. 0. 1.]\n",
            " [0. 0. 0. 0. 0. 0. 0. 0. 1. 0.]]\n",
            "[[0. 0. 0. 0. 0. 0. 0. 1. 0. 0.]\n",
            " [0. 0. 1. 0. 0. 0. 0. 0. 0. 0.]\n",
            " [0. 1. 0. 0. 0. 0. 0. 0. 0. 0.]\n",
            " [1. 0. 0. 0. 0. 0. 0. 0. 0. 0.]\n",
            " [0. 0. 0. 0. 1. 0. 0. 0. 0. 0.]\n",
            " [0. 1. 0. 0. 0. 0. 0. 0. 0. 0.]\n",
            " [0. 0. 0. 0. 1. 0. 0. 0. 0. 0.]\n",
            " [0. 0. 0. 0. 0. 0. 0. 0. 0. 1.]\n",
            " [0. 0. 0. 0. 0. 1. 0. 0. 0. 0.]\n",
            " [0. 0. 0. 0. 0. 0. 0. 0. 0. 1.]]\n"
          ]
        }
      ],
      "source": [
        "print(yTrainMnist[0:10]) # display the first 10 labels of the training set\n",
        "print(yTestMnist[0:10]) # display the first 10 labels of the test set"
      ]
    },
    {
      "cell_type": "code",
      "execution_count": 16,
      "metadata": {},
      "outputs": [
        {
          "data": {
            "text/plain": [
              "((55000, 28, 28), (55000, 10), (10000, 28, 28), (10000, 10))"
            ]
          },
          "execution_count": 16,
          "metadata": {},
          "output_type": "execute_result"
        }
      ],
      "source": [
        "xTrainMnist.shape, yTrainMnist.shape, xTestMnist.shape, yTestMnist.shape"
      ]
    },
    {
      "cell_type": "markdown",
      "metadata": {},
      "source": [
        "## creating another structure for the sequential model "
      ]
    },
    {
      "cell_type": "markdown",
      "metadata": {},
      "source": [
        "proceed to use a kernel recognition filter on every layer, besides of another techniques to avoid overfitting: \n",
        "\n",
        "- dropout\n",
        "- batch normalization \n",
        "- flatten \n",
        "- global average pooling\n",
        "- regularizacion l1 o l2\n",
        "- estructura de hyperparámetros\n",
        "- funciones de activacion \n",
        "- (PRUNNING & SPARSITY ¿?) \n",
        "    * Función: Eliminan conexiones o neuronas innecesarias en la red, reduciendo la complejidad del modelo y mejorando la eficiencia computacional.​\n",
        "\n",
        "    * Implementación: Se aplican después del entrenamiento inicial para identificar y eliminar pesos insignificantes."
      ]
    },
    {
      "cell_type": "code",
      "execution_count": 17,
      "metadata": {},
      "outputs": [],
      "source": [
        "KernelBase = 32 \n",
        "WeightRegularizer = 1e-4 "
      ]
    },
    {
      "cell_type": "code",
      "execution_count": 18,
      "metadata": {},
      "outputs": [],
      "source": [
        "MnistModel = Tf.keras.models.Sequential() "
      ]
    },
    {
      "cell_type": "markdown",
      "metadata": {},
      "source": [
        "making layer by layer \n",
        "First one is a convolutional sequence of layers : \n"
      ]
    },
    {
      "cell_type": "code",
      "execution_count": 19,
      "metadata": {},
      "outputs": [],
      "source": [
        "MnistModel.add(Tf.keras.layers.Conv2D(KernelBase, (3,3), padding = 'same', input_shape=(28,28,1), kernel_regularizer = Tf.keras.regularizers.l2(WeightRegularizer)))"
      ]
    },
    {
      "cell_type": "markdown",
      "metadata": {},
      "source": [
        "once we add the first convolutional layer with 32 filters of size 3x3 and a regularization term to avoid overfitting\n",
        "proceed adding the activation function ReLU to the output of the convolutional layer"
      ]
    },
    {
      "cell_type": "code",
      "execution_count": 20,
      "metadata": {},
      "outputs": [],
      "source": [
        "MnistModel.add(Tf.keras.layers.Activation('relu'))\n"
      ]
    },
    {
      "cell_type": "markdown",
      "metadata": {},
      "source": [
        " finally goes with the batch normalization to normalize the output of the previous layer\n"
      ]
    },
    {
      "cell_type": "code",
      "execution_count": 21,
      "metadata": {},
      "outputs": [],
      "source": [
        "MnistModel.add(Tf.keras.layers.BatchNormalization())"
      ]
    },
    {
      "cell_type": "markdown",
      "metadata": {},
      "source": [
        "also implement a maxpooling 2d layer and dropout on this another layer : \n"
      ]
    },
    {
      "cell_type": "code",
      "execution_count": 22,
      "metadata": {},
      "outputs": [],
      "source": [
        "MnistModel.add(Tf.keras.layers.Conv2D(KernelBase, (3, 3), padding='same', activation='relu', kernel_regularizer=Tf.keras.regularizers.l2(WeightRegularizer), input_shape=(28, 28, 1)))\n",
        "MnistModel.add(Tf.keras.layers.LeakyReLU(alpha=0.1)) # we use a different activation function to see if it improves the performance of the model\n",
        "MnistModel.add(Tf.keras.layers.BatchNormalization())\n",
        "MnistModel.add(Tf.keras.layers.MaxPooling2D(pool_size=(2, 2), strides=(2, 2), padding='same')) \n",
        "MnistModel.add(Tf.keras.layers.Dropout(0.25)) # we add a dropout layer to reduce overfitting "
      ]
    },
    {
      "cell_type": "markdown",
      "metadata": {},
      "source": [
        "now, we nee to do the last classification layer with a dense and a flatten function "
      ]
    },
    {
      "cell_type": "code",
      "execution_count": 23,
      "metadata": {},
      "outputs": [],
      "source": [
        "# Add a Flatten layer to convert the 2D images to 1D vectors  (transform the img to an array)\n",
        "MnistModel.add(Tf.keras.layers.Flatten()) # without the input size "
      ]
    },
    {
      "cell_type": "markdown",
      "metadata": {},
      "source": [
        "finally,  10 classes for the output layer with a softmax activation"
      ]
    },
    {
      "cell_type": "code",
      "execution_count": 24,
      "metadata": {},
      "outputs": [],
      "source": [
        "MnistModel.add(Tf.keras.layers.Dense(10,activation= 'softmax'))  "
      ]
    },
    {
      "cell_type": "markdown",
      "metadata": {},
      "source": [
        "lets see a summary of the structure: "
      ]
    },
    {
      "cell_type": "code",
      "execution_count": 25,
      "metadata": {},
      "outputs": [
        {
          "name": "stdout",
          "output_type": "stream",
          "text": [
            "Model: \"sequential\"\n",
            "_________________________________________________________________\n",
            " Layer (type)                Output Shape              Param #   \n",
            "=================================================================\n",
            " conv2d (Conv2D)             (None, 28, 28, 32)        320       \n",
            "                                                                 \n",
            " activation (Activation)     (None, 28, 28, 32)        0         \n",
            "                                                                 \n",
            " batch_normalization (BatchN  (None, 28, 28, 32)       128       \n",
            " ormalization)                                                   \n",
            "                                                                 \n",
            " conv2d_1 (Conv2D)           (None, 28, 28, 32)        9248      \n",
            "                                                                 \n",
            " leaky_re_lu (LeakyReLU)     (None, 28, 28, 32)        0         \n",
            "                                                                 \n",
            " batch_normalization_1 (Batc  (None, 28, 28, 32)       128       \n",
            " hNormalization)                                                 \n",
            "                                                                 \n",
            " max_pooling2d (MaxPooling2D  (None, 14, 14, 32)       0         \n",
            " )                                                               \n",
            "                                                                 \n",
            " dropout (Dropout)           (None, 14, 14, 32)        0         \n",
            "                                                                 \n",
            " flatten (Flatten)           (None, 6272)              0         \n",
            "                                                                 \n",
            " dense (Dense)               (None, 10)                62730     \n",
            "                                                                 \n",
            "=================================================================\n",
            "Total params: 72,554\n",
            "Trainable params: 72,426\n",
            "Non-trainable params: 128\n",
            "_________________________________________________________________\n"
          ]
        }
      ],
      "source": [
        "MnistModel.summary() "
      ]
    },
    {
      "cell_type": "markdown",
      "metadata": {},
      "source": [
        "proceed compiling the model \n"
      ]
    },
    {
      "cell_type": "code",
      "execution_count": 26,
      "metadata": {},
      "outputs": [],
      "source": [
        "MnistModel.compile(optimizer=Tf.keras.optimizers.Adam(learning_rate=0.001), loss='categorical_crossentropy', metrics=['accuracy']) # we use adam optimizer with a learning rate of 0.001 and categorical cross entropy as loss function\n",
        "# use addam optimizer with a learning rate of 0.001 and categorical cross entropy as loss function"
      ]
    },
    {
      "cell_type": "markdown",
      "metadata": {},
      "source": [
        "also we can do a callback checkpoint when were we are fitting the model "
      ]
    },
    {
      "cell_type": "code",
      "execution_count": 27,
      "metadata": {},
      "outputs": [],
      "source": [
        "CBCheckPoint = Tf.keras.callbacks.ModelCheckpoint(\"best_model,keras\", verbose = 1, save_best_only = True, monitor = \"val_accuracy\")"
      ]
    },
    {
      "cell_type": "markdown",
      "metadata": {},
      "source": [
        "### proceding training the model "
      ]
    },
    {
      "cell_type": "code",
      "execution_count": 28,
      "metadata": {},
      "outputs": [],
      "source": [
        "\n",
        "# Asegúrate de que los datos tengan 4 dimensiones\n",
        "xTrainMnist = np.expand_dims(xTrainMnist, axis=-1)  # Agrega la dimensión del canal\n",
        "xValidMnist = np.expand_dims(xValidMnist, axis=-1)  # Agrega la dimensión del canal"
      ]
    },
    {
      "cell_type": "code",
      "execution_count": null,
      "metadata": {},
      "outputs": [
        {
          "name": "stdout",
          "output_type": "stream",
          "text": [
            "Epoch 1/1000\n",
            "\n",
            "Epoch 1: val_accuracy improved from -inf to 0.66840, saving model to best_model,keras\n"
          ]
        },
        {
          "name": "stderr",
          "output_type": "stream",
          "text": [
            "WARNING:absl:Found untraced functions such as _jit_compiled_convolution_op, _jit_compiled_convolution_op while saving (showing 2 of 2). These functions will not be directly callable after loading.\n"
          ]
        },
        {
          "name": "stdout",
          "output_type": "stream",
          "text": [
            "INFO:tensorflow:Assets written to: best_model,keras\\assets\n"
          ]
        },
        {
          "name": "stderr",
          "output_type": "stream",
          "text": [
            "INFO:tensorflow:Assets written to: best_model,keras\\assets\n"
          ]
        },
        {
          "name": "stdout",
          "output_type": "stream",
          "text": [
            "429/429 - 72s - loss: 1.2227 - accuracy: 0.6190 - val_loss: 0.9820 - val_accuracy: 0.6684 - 72s/epoch - 167ms/step\n",
            "Epoch 2/1000\n",
            "\n",
            "Epoch 2: val_accuracy improved from 0.66840 to 0.80460, saving model to best_model,keras\n"
          ]
        },
        {
          "name": "stderr",
          "output_type": "stream",
          "text": [
            "WARNING:absl:Found untraced functions such as _jit_compiled_convolution_op, _jit_compiled_convolution_op while saving (showing 2 of 2). These functions will not be directly callable after loading.\n"
          ]
        },
        {
          "name": "stdout",
          "output_type": "stream",
          "text": [
            "INFO:tensorflow:Assets written to: best_model,keras\\assets\n"
          ]
        },
        {
          "name": "stderr",
          "output_type": "stream",
          "text": [
            "INFO:tensorflow:Assets written to: best_model,keras\\assets\n"
          ]
        },
        {
          "name": "stdout",
          "output_type": "stream",
          "text": [
            "429/429 - 18s - loss: 0.7864 - accuracy: 0.7418 - val_loss: 0.6447 - val_accuracy: 0.8046 - 18s/epoch - 43ms/step\n",
            "Epoch 3/1000\n",
            "\n",
            "Epoch 3: val_accuracy improved from 0.80460 to 0.83920, saving model to best_model,keras\n"
          ]
        },
        {
          "name": "stderr",
          "output_type": "stream",
          "text": [
            "WARNING:absl:Found untraced functions such as _jit_compiled_convolution_op, _jit_compiled_convolution_op while saving (showing 2 of 2). These functions will not be directly callable after loading.\n"
          ]
        },
        {
          "name": "stdout",
          "output_type": "stream",
          "text": [
            "INFO:tensorflow:Assets written to: best_model,keras\\assets\n"
          ]
        },
        {
          "name": "stderr",
          "output_type": "stream",
          "text": [
            "INFO:tensorflow:Assets written to: best_model,keras\\assets\n"
          ]
        },
        {
          "name": "stdout",
          "output_type": "stream",
          "text": [
            "429/429 - 18s - loss: 0.6536 - accuracy: 0.7818 - val_loss: 0.5268 - val_accuracy: 0.8392 - 18s/epoch - 43ms/step\n",
            "Epoch 4/1000\n",
            "\n",
            "Epoch 4: val_accuracy improved from 0.83920 to 0.83960, saving model to best_model,keras\n"
          ]
        },
        {
          "name": "stderr",
          "output_type": "stream",
          "text": [
            "WARNING:absl:Found untraced functions such as _jit_compiled_convolution_op, _jit_compiled_convolution_op while saving (showing 2 of 2). These functions will not be directly callable after loading.\n"
          ]
        },
        {
          "name": "stdout",
          "output_type": "stream",
          "text": [
            "INFO:tensorflow:Assets written to: best_model,keras\\assets\n"
          ]
        },
        {
          "name": "stderr",
          "output_type": "stream",
          "text": [
            "INFO:tensorflow:Assets written to: best_model,keras\\assets\n"
          ]
        },
        {
          "name": "stdout",
          "output_type": "stream",
          "text": [
            "429/429 - 20s - loss: 0.5638 - accuracy: 0.8136 - val_loss: 0.5055 - val_accuracy: 0.8396 - 20s/epoch - 47ms/step\n",
            "Epoch 5/1000\n",
            "\n",
            "Epoch 5: val_accuracy improved from 0.83960 to 0.87880, saving model to best_model,keras\n"
          ]
        },
        {
          "name": "stderr",
          "output_type": "stream",
          "text": [
            "WARNING:absl:Found untraced functions such as _jit_compiled_convolution_op, _jit_compiled_convolution_op while saving (showing 2 of 2). These functions will not be directly callable after loading.\n"
          ]
        },
        {
          "name": "stdout",
          "output_type": "stream",
          "text": [
            "INFO:tensorflow:Assets written to: best_model,keras\\assets\n"
          ]
        },
        {
          "name": "stderr",
          "output_type": "stream",
          "text": [
            "INFO:tensorflow:Assets written to: best_model,keras\\assets\n"
          ]
        },
        {
          "name": "stdout",
          "output_type": "stream",
          "text": [
            "429/429 - 25s - loss: 0.5122 - accuracy: 0.8297 - val_loss: 0.3733 - val_accuracy: 0.8788 - 25s/epoch - 59ms/step\n",
            "Epoch 6/1000\n",
            "\n",
            "Epoch 6: val_accuracy did not improve from 0.87880\n",
            "429/429 - 20s - loss: 0.4784 - accuracy: 0.8416 - val_loss: 0.3632 - val_accuracy: 0.8764 - 20s/epoch - 48ms/step\n",
            "Epoch 7/1000\n",
            "\n",
            "Epoch 7: val_accuracy did not improve from 0.87880\n",
            "429/429 - 19s - loss: 0.4568 - accuracy: 0.8480 - val_loss: 0.4126 - val_accuracy: 0.8702 - 19s/epoch - 45ms/step\n",
            "Epoch 8/1000\n",
            "\n",
            "Epoch 8: val_accuracy did not improve from 0.87880\n",
            "429/429 - 21s - loss: 0.4319 - accuracy: 0.8570 - val_loss: 0.3899 - val_accuracy: 0.8728 - 21s/epoch - 49ms/step\n",
            "Epoch 9/1000\n",
            "\n",
            "Epoch 9: val_accuracy improved from 0.87880 to 0.90080, saving model to best_model,keras\n"
          ]
        },
        {
          "name": "stderr",
          "output_type": "stream",
          "text": [
            "WARNING:absl:Found untraced functions such as _jit_compiled_convolution_op, _jit_compiled_convolution_op while saving (showing 2 of 2). These functions will not be directly callable after loading.\n"
          ]
        },
        {
          "name": "stdout",
          "output_type": "stream",
          "text": [
            "INFO:tensorflow:Assets written to: best_model,keras\\assets\n"
          ]
        },
        {
          "name": "stderr",
          "output_type": "stream",
          "text": [
            "INFO:tensorflow:Assets written to: best_model,keras\\assets\n"
          ]
        },
        {
          "name": "stdout",
          "output_type": "stream",
          "text": [
            "429/429 - 34s - loss: 0.4208 - accuracy: 0.8608 - val_loss: 0.3139 - val_accuracy: 0.9008 - 34s/epoch - 79ms/step\n",
            "Epoch 10/1000\n",
            "\n",
            "Epoch 10: val_accuracy improved from 0.90080 to 0.92040, saving model to best_model,keras\n"
          ]
        },
        {
          "name": "stderr",
          "output_type": "stream",
          "text": [
            "WARNING:absl:Found untraced functions such as _jit_compiled_convolution_op, _jit_compiled_convolution_op while saving (showing 2 of 2). These functions will not be directly callable after loading.\n"
          ]
        },
        {
          "name": "stdout",
          "output_type": "stream",
          "text": [
            "INFO:tensorflow:Assets written to: best_model,keras\\assets\n"
          ]
        },
        {
          "name": "stderr",
          "output_type": "stream",
          "text": [
            "INFO:tensorflow:Assets written to: best_model,keras\\assets\n"
          ]
        },
        {
          "name": "stdout",
          "output_type": "stream",
          "text": [
            "429/429 - 36s - loss: 0.4129 - accuracy: 0.8638 - val_loss: 0.2528 - val_accuracy: 0.9204 - 36s/epoch - 85ms/step\n",
            "Epoch 11/1000\n",
            "\n",
            "Epoch 11: val_accuracy did not improve from 0.92040\n",
            "429/429 - 21s - loss: 0.3986 - accuracy: 0.8698 - val_loss: 0.5123 - val_accuracy: 0.8360 - 21s/epoch - 49ms/step\n",
            "Epoch 12/1000\n",
            "\n",
            "Epoch 12: val_accuracy did not improve from 0.92040\n",
            "429/429 - 51s - loss: 0.3987 - accuracy: 0.8692 - val_loss: 0.3744 - val_accuracy: 0.8688 - 51s/epoch - 120ms/step\n",
            "Epoch 13/1000\n",
            "\n",
            "Epoch 13: val_accuracy did not improve from 0.92040\n",
            "429/429 - 40s - loss: 0.3888 - accuracy: 0.8734 - val_loss: 0.3060 - val_accuracy: 0.9012 - 40s/epoch - 92ms/step\n",
            "Epoch 14/1000\n",
            "\n",
            "Epoch 14: val_accuracy did not improve from 0.92040\n",
            "429/429 - 28s - loss: 0.3829 - accuracy: 0.8736 - val_loss: 0.2919 - val_accuracy: 0.9056 - 28s/epoch - 65ms/step\n",
            "Epoch 15/1000\n",
            "\n",
            "Epoch 15: val_accuracy did not improve from 0.92040\n",
            "429/429 - 22s - loss: 0.3730 - accuracy: 0.8778 - val_loss: 0.3104 - val_accuracy: 0.9030 - 22s/epoch - 52ms/step\n",
            "Epoch 16/1000\n",
            "\n",
            "Epoch 16: val_accuracy did not improve from 0.92040\n",
            "429/429 - 23s - loss: 0.3700 - accuracy: 0.8789 - val_loss: 0.2694 - val_accuracy: 0.9168 - 23s/epoch - 52ms/step\n",
            "Epoch 17/1000\n",
            "\n",
            "Epoch 17: val_accuracy improved from 0.92040 to 0.92340, saving model to best_model,keras\n"
          ]
        },
        {
          "name": "stderr",
          "output_type": "stream",
          "text": [
            "WARNING:absl:Found untraced functions such as _jit_compiled_convolution_op, _jit_compiled_convolution_op while saving (showing 2 of 2). These functions will not be directly callable after loading.\n"
          ]
        },
        {
          "name": "stdout",
          "output_type": "stream",
          "text": [
            "INFO:tensorflow:Assets written to: best_model,keras\\assets\n"
          ]
        },
        {
          "name": "stderr",
          "output_type": "stream",
          "text": [
            "INFO:tensorflow:Assets written to: best_model,keras\\assets\n"
          ]
        },
        {
          "name": "stdout",
          "output_type": "stream",
          "text": [
            "429/429 - 24s - loss: 0.3672 - accuracy: 0.8808 - val_loss: 0.2521 - val_accuracy: 0.9234 - 24s/epoch - 57ms/step\n",
            "Epoch 18/1000\n",
            "\n",
            "Epoch 18: val_accuracy did not improve from 0.92340\n",
            "429/429 - 22s - loss: 0.3627 - accuracy: 0.8826 - val_loss: 0.2737 - val_accuracy: 0.9138 - 22s/epoch - 52ms/step\n",
            "Epoch 19/1000\n",
            "\n",
            "Epoch 19: val_accuracy did not improve from 0.92340\n",
            "429/429 - 22s - loss: 0.3602 - accuracy: 0.8813 - val_loss: 0.3797 - val_accuracy: 0.8714 - 22s/epoch - 52ms/step\n",
            "Epoch 20/1000\n",
            "\n",
            "Epoch 20: val_accuracy did not improve from 0.92340\n",
            "429/429 - 22s - loss: 0.3570 - accuracy: 0.8847 - val_loss: 0.2715 - val_accuracy: 0.9062 - 22s/epoch - 50ms/step\n",
            "Epoch 21/1000\n",
            "\n",
            "Epoch 21: val_accuracy did not improve from 0.92340\n",
            "429/429 - 23s - loss: 0.3545 - accuracy: 0.8844 - val_loss: 0.2576 - val_accuracy: 0.9172 - 23s/epoch - 53ms/step\n",
            "Epoch 22/1000\n",
            "\n",
            "Epoch 22: val_accuracy did not improve from 0.92340\n",
            "429/429 - 24s - loss: 0.3495 - accuracy: 0.8864 - val_loss: 0.2842 - val_accuracy: 0.9156 - 24s/epoch - 57ms/step\n",
            "Epoch 23/1000\n",
            "\n",
            "Epoch 23: val_accuracy improved from 0.92340 to 0.92560, saving model to best_model,keras\n"
          ]
        },
        {
          "name": "stderr",
          "output_type": "stream",
          "text": [
            "WARNING:absl:Found untraced functions such as _jit_compiled_convolution_op, _jit_compiled_convolution_op while saving (showing 2 of 2). These functions will not be directly callable after loading.\n"
          ]
        },
        {
          "name": "stdout",
          "output_type": "stream",
          "text": [
            "INFO:tensorflow:Assets written to: best_model,keras\\assets\n"
          ]
        },
        {
          "name": "stderr",
          "output_type": "stream",
          "text": [
            "INFO:tensorflow:Assets written to: best_model,keras\\assets\n"
          ]
        },
        {
          "name": "stdout",
          "output_type": "stream",
          "text": [
            "429/429 - 26s - loss: 0.3423 - accuracy: 0.8894 - val_loss: 0.2415 - val_accuracy: 0.9256 - 26s/epoch - 59ms/step\n",
            "Epoch 24/1000\n",
            "\n",
            "Epoch 24: val_accuracy did not improve from 0.92560\n",
            "429/429 - 24s - loss: 0.3440 - accuracy: 0.8882 - val_loss: 0.2945 - val_accuracy: 0.9026 - 24s/epoch - 56ms/step\n",
            "Epoch 25/1000\n",
            "\n",
            "Epoch 25: val_accuracy did not improve from 0.92560\n",
            "429/429 - 24s - loss: 0.3376 - accuracy: 0.8899 - val_loss: 0.2461 - val_accuracy: 0.9252 - 24s/epoch - 57ms/step\n",
            "Epoch 26/1000\n",
            "\n",
            "Epoch 26: val_accuracy did not improve from 0.92560\n",
            "429/429 - 29s - loss: 0.3378 - accuracy: 0.8889 - val_loss: 0.2587 - val_accuracy: 0.9150 - 29s/epoch - 67ms/step\n",
            "Epoch 27/1000\n",
            "\n",
            "Epoch 27: val_accuracy did not improve from 0.92560\n",
            "429/429 - 24s - loss: 0.3375 - accuracy: 0.8912 - val_loss: 0.2538 - val_accuracy: 0.9168 - 24s/epoch - 57ms/step\n",
            "Epoch 28/1000\n",
            "\n",
            "Epoch 28: val_accuracy did not improve from 0.92560\n",
            "429/429 - 22s - loss: 0.3398 - accuracy: 0.8904 - val_loss: 0.2407 - val_accuracy: 0.9206 - 22s/epoch - 50ms/step\n",
            "Epoch 29/1000\n",
            "\n",
            "Epoch 29: val_accuracy did not improve from 0.92560\n",
            "429/429 - 21s - loss: 0.3335 - accuracy: 0.8915 - val_loss: 0.2481 - val_accuracy: 0.9244 - 21s/epoch - 48ms/step\n",
            "Epoch 30/1000\n",
            "\n",
            "Epoch 30: val_accuracy did not improve from 0.92560\n",
            "429/429 - 21s - loss: 0.3287 - accuracy: 0.8936 - val_loss: 0.2509 - val_accuracy: 0.9216 - 21s/epoch - 48ms/step\n",
            "Epoch 31/1000\n",
            "\n",
            "Epoch 31: val_accuracy did not improve from 0.92560\n",
            "429/429 - 20s - loss: 0.3276 - accuracy: 0.8928 - val_loss: 0.2579 - val_accuracy: 0.9152 - 20s/epoch - 47ms/step\n",
            "Epoch 32/1000\n",
            "\n",
            "Epoch 32: val_accuracy did not improve from 0.92560\n",
            "429/429 - 22s - loss: 0.3267 - accuracy: 0.8955 - val_loss: 0.2863 - val_accuracy: 0.9024 - 22s/epoch - 52ms/step\n",
            "Epoch 33/1000\n",
            "\n",
            "Epoch 33: val_accuracy did not improve from 0.92560\n",
            "429/429 - 21s - loss: 0.3262 - accuracy: 0.8954 - val_loss: 0.2626 - val_accuracy: 0.9158 - 21s/epoch - 48ms/step\n",
            "Epoch 34/1000\n",
            "\n",
            "Epoch 34: val_accuracy improved from 0.92560 to 0.93680, saving model to best_model,keras\n"
          ]
        },
        {
          "name": "stderr",
          "output_type": "stream",
          "text": [
            "WARNING:absl:Found untraced functions such as _jit_compiled_convolution_op, _jit_compiled_convolution_op while saving (showing 2 of 2). These functions will not be directly callable after loading.\n"
          ]
        },
        {
          "name": "stdout",
          "output_type": "stream",
          "text": [
            "INFO:tensorflow:Assets written to: best_model,keras\\assets\n"
          ]
        },
        {
          "name": "stderr",
          "output_type": "stream",
          "text": [
            "INFO:tensorflow:Assets written to: best_model,keras\\assets\n"
          ]
        },
        {
          "name": "stdout",
          "output_type": "stream",
          "text": [
            "429/429 - 23s - loss: 0.3218 - accuracy: 0.8959 - val_loss: 0.2107 - val_accuracy: 0.9368 - 23s/epoch - 53ms/step\n",
            "Epoch 35/1000\n",
            "\n",
            "Epoch 35: val_accuracy did not improve from 0.93680\n",
            "429/429 - 23s - loss: 0.3226 - accuracy: 0.8961 - val_loss: 0.2723 - val_accuracy: 0.9078 - 23s/epoch - 53ms/step\n",
            "Epoch 36/1000\n",
            "\n",
            "Epoch 36: val_accuracy did not improve from 0.93680\n",
            "429/429 - 21s - loss: 0.3285 - accuracy: 0.8922 - val_loss: 0.2594 - val_accuracy: 0.9182 - 21s/epoch - 49ms/step\n",
            "Epoch 37/1000\n",
            "\n",
            "Epoch 37: val_accuracy did not improve from 0.93680\n",
            "429/429 - 20s - loss: 0.3217 - accuracy: 0.8967 - val_loss: 0.2354 - val_accuracy: 0.9254 - 20s/epoch - 46ms/step\n",
            "Epoch 38/1000\n",
            "\n",
            "Epoch 38: val_accuracy did not improve from 0.93680\n",
            "429/429 - 20s - loss: 0.3217 - accuracy: 0.8954 - val_loss: 0.2521 - val_accuracy: 0.9184 - 20s/epoch - 46ms/step\n",
            "Epoch 39/1000\n",
            "\n",
            "Epoch 39: val_accuracy did not improve from 0.93680\n",
            "429/429 - 20s - loss: 0.3179 - accuracy: 0.8990 - val_loss: 0.2442 - val_accuracy: 0.9218 - 20s/epoch - 47ms/step\n",
            "Epoch 40/1000\n",
            "\n",
            "Epoch 40: val_accuracy did not improve from 0.93680\n",
            "429/429 - 22s - loss: 0.3198 - accuracy: 0.8966 - val_loss: 0.2329 - val_accuracy: 0.9220 - 22s/epoch - 52ms/step\n",
            "Epoch 41/1000\n",
            "\n",
            "Epoch 41: val_accuracy did not improve from 0.93680\n",
            "429/429 - 28s - loss: 0.3160 - accuracy: 0.8981 - val_loss: 0.2882 - val_accuracy: 0.9084 - 28s/epoch - 64ms/step\n",
            "Epoch 42/1000\n",
            "\n",
            "Epoch 42: val_accuracy did not improve from 0.93680\n",
            "429/429 - 23s - loss: 0.3178 - accuracy: 0.8983 - val_loss: 0.2279 - val_accuracy: 0.9282 - 23s/epoch - 54ms/step\n",
            "Epoch 43/1000\n",
            "\n",
            "Epoch 43: val_accuracy did not improve from 0.93680\n",
            "429/429 - 20s - loss: 0.3147 - accuracy: 0.8996 - val_loss: 0.2600 - val_accuracy: 0.9146 - 20s/epoch - 47ms/step\n",
            "Epoch 44/1000\n",
            "\n",
            "Epoch 44: val_accuracy did not improve from 0.93680\n",
            "429/429 - 23s - loss: 0.3213 - accuracy: 0.8978 - val_loss: 0.2394 - val_accuracy: 0.9250 - 23s/epoch - 53ms/step\n",
            "Epoch 45/1000\n",
            "\n",
            "Epoch 45: val_accuracy did not improve from 0.93680\n",
            "429/429 - 23s - loss: 0.3110 - accuracy: 0.9000 - val_loss: 0.2280 - val_accuracy: 0.9284 - 23s/epoch - 53ms/step\n",
            "Epoch 46/1000\n",
            "\n",
            "Epoch 46: val_accuracy did not improve from 0.93680\n",
            "429/429 - 22s - loss: 0.3143 - accuracy: 0.8998 - val_loss: 0.2564 - val_accuracy: 0.9178 - 22s/epoch - 51ms/step\n",
            "Epoch 47/1000\n",
            "\n",
            "Epoch 47: val_accuracy did not improve from 0.93680\n",
            "429/429 - 22s - loss: 0.3101 - accuracy: 0.9012 - val_loss: 0.2152 - val_accuracy: 0.9342 - 22s/epoch - 52ms/step\n",
            "Epoch 48/1000\n",
            "\n",
            "Epoch 48: val_accuracy did not improve from 0.93680\n",
            "429/429 - 22s - loss: 0.3115 - accuracy: 0.9003 - val_loss: 0.2377 - val_accuracy: 0.9222 - 22s/epoch - 52ms/step\n",
            "Epoch 49/1000\n",
            "\n",
            "Epoch 49: val_accuracy did not improve from 0.93680\n",
            "429/429 - 22s - loss: 0.3123 - accuracy: 0.9000 - val_loss: 0.2450 - val_accuracy: 0.9250 - 22s/epoch - 51ms/step\n",
            "Epoch 50/1000\n",
            "\n",
            "Epoch 50: val_accuracy did not improve from 0.93680\n",
            "429/429 - 23s - loss: 0.3120 - accuracy: 0.9002 - val_loss: 0.2372 - val_accuracy: 0.9276 - 23s/epoch - 53ms/step\n",
            "Epoch 51/1000\n",
            "\n",
            "Epoch 51: val_accuracy did not improve from 0.93680\n",
            "429/429 - 22s - loss: 0.3057 - accuracy: 0.9027 - val_loss: 0.2308 - val_accuracy: 0.9250 - 22s/epoch - 51ms/step\n",
            "Epoch 52/1000\n",
            "\n",
            "Epoch 52: val_accuracy did not improve from 0.93680\n",
            "429/429 - 23s - loss: 0.3120 - accuracy: 0.8998 - val_loss: 0.2219 - val_accuracy: 0.9298 - 23s/epoch - 54ms/step\n",
            "Epoch 53/1000\n",
            "\n",
            "Epoch 53: val_accuracy did not improve from 0.93680\n",
            "429/429 - 21s - loss: 0.3067 - accuracy: 0.9039 - val_loss: 0.2507 - val_accuracy: 0.9196 - 21s/epoch - 48ms/step\n",
            "Epoch 54/1000\n",
            "\n",
            "Epoch 54: val_accuracy did not improve from 0.93680\n",
            "429/429 - 20s - loss: 0.3044 - accuracy: 0.9040 - val_loss: 0.2575 - val_accuracy: 0.9156 - 20s/epoch - 46ms/step\n",
            "Epoch 55/1000\n",
            "\n",
            "Epoch 55: val_accuracy did not improve from 0.93680\n",
            "429/429 - 21s - loss: 0.3013 - accuracy: 0.9042 - val_loss: 0.2313 - val_accuracy: 0.9290 - 21s/epoch - 48ms/step\n",
            "Epoch 56/1000\n",
            "\n",
            "Epoch 56: val_accuracy did not improve from 0.93680\n",
            "429/429 - 20s - loss: 0.3065 - accuracy: 0.9026 - val_loss: 0.2495 - val_accuracy: 0.9174 - 20s/epoch - 46ms/step\n",
            "Epoch 57/1000\n",
            "\n",
            "Epoch 57: val_accuracy did not improve from 0.93680\n",
            "429/429 - 19s - loss: 0.3041 - accuracy: 0.9027 - val_loss: 0.3469 - val_accuracy: 0.8906 - 19s/epoch - 44ms/step\n",
            "Epoch 58/1000\n",
            "\n",
            "Epoch 58: val_accuracy improved from 0.93680 to 0.93720, saving model to best_model,keras\n"
          ]
        },
        {
          "name": "stderr",
          "output_type": "stream",
          "text": [
            "WARNING:absl:Found untraced functions such as _jit_compiled_convolution_op, _jit_compiled_convolution_op while saving (showing 2 of 2). These functions will not be directly callable after loading.\n"
          ]
        },
        {
          "name": "stdout",
          "output_type": "stream",
          "text": [
            "INFO:tensorflow:Assets written to: best_model,keras\\assets\n"
          ]
        },
        {
          "name": "stderr",
          "output_type": "stream",
          "text": [
            "INFO:tensorflow:Assets written to: best_model,keras\\assets\n"
          ]
        },
        {
          "name": "stdout",
          "output_type": "stream",
          "text": [
            "429/429 - 22s - loss: 0.3064 - accuracy: 0.9023 - val_loss: 0.2058 - val_accuracy: 0.9372 - 22s/epoch - 50ms/step\n",
            "Epoch 59/1000\n",
            "\n",
            "Epoch 59: val_accuracy did not improve from 0.93720\n",
            "429/429 - 19s - loss: 0.3044 - accuracy: 0.9031 - val_loss: 0.2247 - val_accuracy: 0.9290 - 19s/epoch - 43ms/step\n",
            "Epoch 60/1000\n",
            "\n",
            "Epoch 60: val_accuracy did not improve from 0.93720\n",
            "429/429 - 19s - loss: 0.2986 - accuracy: 0.9050 - val_loss: 0.2201 - val_accuracy: 0.9352 - 19s/epoch - 44ms/step\n",
            "Epoch 61/1000\n",
            "\n",
            "Epoch 61: val_accuracy improved from 0.93720 to 0.93880, saving model to best_model,keras\n"
          ]
        },
        {
          "name": "stderr",
          "output_type": "stream",
          "text": [
            "WARNING:absl:Found untraced functions such as _jit_compiled_convolution_op, _jit_compiled_convolution_op while saving (showing 2 of 2). These functions will not be directly callable after loading.\n"
          ]
        },
        {
          "name": "stdout",
          "output_type": "stream",
          "text": [
            "INFO:tensorflow:Assets written to: best_model,keras\\assets\n"
          ]
        },
        {
          "name": "stderr",
          "output_type": "stream",
          "text": [
            "INFO:tensorflow:Assets written to: best_model,keras\\assets\n"
          ]
        },
        {
          "name": "stdout",
          "output_type": "stream",
          "text": [
            "429/429 - 20s - loss: 0.2999 - accuracy: 0.9044 - val_loss: 0.2004 - val_accuracy: 0.9388 - 20s/epoch - 46ms/step\n",
            "Epoch 62/1000\n",
            "\n",
            "Epoch 62: val_accuracy did not improve from 0.93880\n",
            "429/429 - 22s - loss: 0.3009 - accuracy: 0.9046 - val_loss: 0.2252 - val_accuracy: 0.9312 - 22s/epoch - 52ms/step\n",
            "Epoch 63/1000\n",
            "\n",
            "Epoch 63: val_accuracy did not improve from 0.93880\n",
            "429/429 - 21s - loss: 0.3006 - accuracy: 0.9032 - val_loss: 0.2263 - val_accuracy: 0.9290 - 21s/epoch - 48ms/step\n",
            "Epoch 64/1000\n",
            "\n",
            "Epoch 64: val_accuracy did not improve from 0.93880\n",
            "429/429 - 20s - loss: 0.2982 - accuracy: 0.9065 - val_loss: 0.2289 - val_accuracy: 0.9290 - 20s/epoch - 47ms/step\n",
            "Epoch 65/1000\n",
            "\n",
            "Epoch 65: val_accuracy did not improve from 0.93880\n",
            "429/429 - 21s - loss: 0.2999 - accuracy: 0.9051 - val_loss: 0.2495 - val_accuracy: 0.9256 - 21s/epoch - 48ms/step\n",
            "Epoch 66/1000\n",
            "\n",
            "Epoch 66: val_accuracy did not improve from 0.93880\n",
            "429/429 - 21s - loss: 0.2975 - accuracy: 0.9053 - val_loss: 0.2221 - val_accuracy: 0.9334 - 21s/epoch - 48ms/step\n",
            "Epoch 67/1000\n",
            "\n",
            "Epoch 67: val_accuracy did not improve from 0.93880\n",
            "429/429 - 20s - loss: 0.3012 - accuracy: 0.9062 - val_loss: 0.2084 - val_accuracy: 0.9366 - 20s/epoch - 47ms/step\n",
            "Epoch 68/1000\n",
            "\n",
            "Epoch 68: val_accuracy did not improve from 0.93880\n",
            "429/429 - 21s - loss: 0.2949 - accuracy: 0.9062 - val_loss: 0.2253 - val_accuracy: 0.9300 - 21s/epoch - 50ms/step\n",
            "Epoch 69/1000\n",
            "\n",
            "Epoch 69: val_accuracy did not improve from 0.93880\n",
            "429/429 - 21s - loss: 0.2960 - accuracy: 0.9055 - val_loss: 0.2252 - val_accuracy: 0.9318 - 21s/epoch - 49ms/step\n",
            "Epoch 70/1000\n",
            "\n",
            "Epoch 70: val_accuracy did not improve from 0.93880\n",
            "429/429 - 20s - loss: 0.2958 - accuracy: 0.9074 - val_loss: 0.2300 - val_accuracy: 0.9278 - 20s/epoch - 47ms/step\n",
            "Epoch 71/1000\n",
            "\n",
            "Epoch 71: val_accuracy did not improve from 0.93880\n",
            "429/429 - 21s - loss: 0.2963 - accuracy: 0.9056 - val_loss: 0.2049 - val_accuracy: 0.9382 - 21s/epoch - 49ms/step\n",
            "Epoch 72/1000\n",
            "\n",
            "Epoch 72: val_accuracy did not improve from 0.93880\n",
            "429/429 - 19s - loss: 0.2980 - accuracy: 0.9071 - val_loss: 0.2779 - val_accuracy: 0.9140 - 19s/epoch - 45ms/step\n",
            "Epoch 73/1000\n",
            "\n",
            "Epoch 73: val_accuracy did not improve from 0.93880\n",
            "429/429 - 19s - loss: 0.2938 - accuracy: 0.9070 - val_loss: 0.2531 - val_accuracy: 0.9220 - 19s/epoch - 44ms/step\n",
            "Epoch 74/1000\n",
            "\n",
            "Epoch 74: val_accuracy did not improve from 0.93880\n",
            "429/429 - 19s - loss: 0.2957 - accuracy: 0.9069 - val_loss: 0.2322 - val_accuracy: 0.9268 - 19s/epoch - 44ms/step\n",
            "Epoch 75/1000\n",
            "\n",
            "Epoch 75: val_accuracy did not improve from 0.93880\n",
            "429/429 - 18s - loss: 0.2930 - accuracy: 0.9064 - val_loss: 0.2832 - val_accuracy: 0.9084 - 18s/epoch - 43ms/step\n",
            "Epoch 76/1000\n",
            "\n",
            "Epoch 76: val_accuracy did not improve from 0.93880\n",
            "429/429 - 21s - loss: 0.2954 - accuracy: 0.9068 - val_loss: 0.2216 - val_accuracy: 0.9342 - 21s/epoch - 49ms/step\n",
            "Epoch 77/1000\n",
            "\n",
            "Epoch 77: val_accuracy improved from 0.93880 to 0.94140, saving model to best_model,keras\n"
          ]
        },
        {
          "name": "stderr",
          "output_type": "stream",
          "text": [
            "WARNING:absl:Found untraced functions such as _jit_compiled_convolution_op, _jit_compiled_convolution_op while saving (showing 2 of 2). These functions will not be directly callable after loading.\n"
          ]
        },
        {
          "name": "stdout",
          "output_type": "stream",
          "text": [
            "INFO:tensorflow:Assets written to: best_model,keras\\assets\n"
          ]
        },
        {
          "name": "stderr",
          "output_type": "stream",
          "text": [
            "INFO:tensorflow:Assets written to: best_model,keras\\assets\n"
          ]
        },
        {
          "name": "stdout",
          "output_type": "stream",
          "text": [
            "429/429 - 21s - loss: 0.2914 - accuracy: 0.9080 - val_loss: 0.2059 - val_accuracy: 0.9414 - 21s/epoch - 49ms/step\n",
            "Epoch 78/1000\n",
            "\n",
            "Epoch 78: val_accuracy did not improve from 0.94140\n",
            "429/429 - 19s - loss: 0.2930 - accuracy: 0.9069 - val_loss: 0.2327 - val_accuracy: 0.9314 - 19s/epoch - 45ms/step\n",
            "Epoch 79/1000\n",
            "\n",
            "Epoch 79: val_accuracy did not improve from 0.94140\n",
            "429/429 - 20s - loss: 0.2913 - accuracy: 0.9085 - val_loss: 0.2064 - val_accuracy: 0.9406 - 20s/epoch - 47ms/step\n",
            "Epoch 80/1000\n",
            "\n",
            "Epoch 80: val_accuracy did not improve from 0.94140\n",
            "429/429 - 19s - loss: 0.2949 - accuracy: 0.9074 - val_loss: 0.2176 - val_accuracy: 0.9298 - 19s/epoch - 45ms/step\n",
            "Epoch 81/1000\n",
            "\n",
            "Epoch 81: val_accuracy did not improve from 0.94140\n",
            "429/429 - 19s - loss: 0.2863 - accuracy: 0.9084 - val_loss: 0.2324 - val_accuracy: 0.9314 - 19s/epoch - 45ms/step\n",
            "Epoch 82/1000\n",
            "\n",
            "Epoch 82: val_accuracy did not improve from 0.94140\n",
            "429/429 - 19s - loss: 0.2946 - accuracy: 0.9068 - val_loss: 0.2192 - val_accuracy: 0.9324 - 19s/epoch - 45ms/step\n",
            "Epoch 83/1000\n",
            "\n",
            "Epoch 83: val_accuracy did not improve from 0.94140\n",
            "429/429 - 21s - loss: 0.2886 - accuracy: 0.9084 - val_loss: 0.2343 - val_accuracy: 0.9286 - 21s/epoch - 49ms/step\n",
            "Epoch 84/1000\n",
            "\n",
            "Epoch 84: val_accuracy did not improve from 0.94140\n",
            "429/429 - 20s - loss: 0.2889 - accuracy: 0.9091 - val_loss: 0.2343 - val_accuracy: 0.9222 - 20s/epoch - 46ms/step\n",
            "Epoch 85/1000\n",
            "\n",
            "Epoch 85: val_accuracy improved from 0.94140 to 0.94280, saving model to best_model,keras\n"
          ]
        },
        {
          "name": "stderr",
          "output_type": "stream",
          "text": [
            "WARNING:absl:Found untraced functions such as _jit_compiled_convolution_op, _jit_compiled_convolution_op while saving (showing 2 of 2). These functions will not be directly callable after loading.\n"
          ]
        },
        {
          "name": "stdout",
          "output_type": "stream",
          "text": [
            "INFO:tensorflow:Assets written to: best_model,keras\\assets\n"
          ]
        },
        {
          "name": "stderr",
          "output_type": "stream",
          "text": [
            "INFO:tensorflow:Assets written to: best_model,keras\\assets\n"
          ]
        },
        {
          "name": "stdout",
          "output_type": "stream",
          "text": [
            "429/429 - 23s - loss: 0.2926 - accuracy: 0.9078 - val_loss: 0.1889 - val_accuracy: 0.9428 - 23s/epoch - 54ms/step\n",
            "Epoch 86/1000\n",
            "\n",
            "Epoch 86: val_accuracy did not improve from 0.94280\n",
            "429/429 - 22s - loss: 0.2867 - accuracy: 0.9084 - val_loss: 0.2002 - val_accuracy: 0.9418 - 22s/epoch - 52ms/step\n",
            "Epoch 87/1000\n",
            "\n",
            "Epoch 87: val_accuracy did not improve from 0.94280\n",
            "429/429 - 21s - loss: 0.2939 - accuracy: 0.9076 - val_loss: 0.2620 - val_accuracy: 0.9182 - 21s/epoch - 48ms/step\n",
            "Epoch 88/1000\n",
            "\n",
            "Epoch 88: val_accuracy did not improve from 0.94280\n",
            "429/429 - 21s - loss: 0.2898 - accuracy: 0.9089 - val_loss: 0.2277 - val_accuracy: 0.9296 - 21s/epoch - 49ms/step\n",
            "Epoch 89/1000\n",
            "\n",
            "Epoch 89: val_accuracy did not improve from 0.94280\n",
            "429/429 - 21s - loss: 0.2878 - accuracy: 0.9098 - val_loss: 0.1890 - val_accuracy: 0.9424 - 21s/epoch - 49ms/step\n",
            "Epoch 90/1000\n",
            "\n",
            "Epoch 90: val_accuracy did not improve from 0.94280\n",
            "429/429 - 21s - loss: 0.2844 - accuracy: 0.9094 - val_loss: 0.2007 - val_accuracy: 0.9394 - 21s/epoch - 49ms/step\n",
            "Epoch 91/1000\n",
            "\n",
            "Epoch 91: val_accuracy did not improve from 0.94280\n",
            "429/429 - 22s - loss: 0.2841 - accuracy: 0.9108 - val_loss: 0.2267 - val_accuracy: 0.9256 - 22s/epoch - 50ms/step\n",
            "Epoch 92/1000\n",
            "\n",
            "Epoch 92: val_accuracy did not improve from 0.94280\n",
            "429/429 - 21s - loss: 0.2909 - accuracy: 0.9082 - val_loss: 0.1993 - val_accuracy: 0.9400 - 21s/epoch - 49ms/step\n",
            "Epoch 93/1000\n",
            "\n",
            "Epoch 93: val_accuracy did not improve from 0.94280\n",
            "429/429 - 22s - loss: 0.2862 - accuracy: 0.9078 - val_loss: 0.2111 - val_accuracy: 0.9374 - 22s/epoch - 51ms/step\n",
            "Epoch 94/1000\n",
            "\n",
            "Epoch 94: val_accuracy did not improve from 0.94280\n",
            "429/429 - 22s - loss: 0.2868 - accuracy: 0.9094 - val_loss: 0.2103 - val_accuracy: 0.9350 - 22s/epoch - 50ms/step\n",
            "Epoch 95/1000\n",
            "\n",
            "Epoch 95: val_accuracy improved from 0.94280 to 0.94580, saving model to best_model,keras\n"
          ]
        },
        {
          "name": "stderr",
          "output_type": "stream",
          "text": [
            "WARNING:absl:Found untraced functions such as _jit_compiled_convolution_op, _jit_compiled_convolution_op while saving (showing 2 of 2). These functions will not be directly callable after loading.\n"
          ]
        },
        {
          "name": "stdout",
          "output_type": "stream",
          "text": [
            "INFO:tensorflow:Assets written to: best_model,keras\\assets\n"
          ]
        },
        {
          "name": "stderr",
          "output_type": "stream",
          "text": [
            "INFO:tensorflow:Assets written to: best_model,keras\\assets\n"
          ]
        },
        {
          "name": "stdout",
          "output_type": "stream",
          "text": [
            "429/429 - 23s - loss: 0.2893 - accuracy: 0.9084 - val_loss: 0.1911 - val_accuracy: 0.9458 - 23s/epoch - 54ms/step\n",
            "Epoch 96/1000\n",
            "\n",
            "Epoch 96: val_accuracy did not improve from 0.94580\n",
            "429/429 - 23s - loss: 0.2854 - accuracy: 0.9103 - val_loss: 0.2078 - val_accuracy: 0.9366 - 23s/epoch - 54ms/step\n",
            "Epoch 97/1000\n",
            "\n",
            "Epoch 97: val_accuracy did not improve from 0.94580\n",
            "429/429 - 24s - loss: 0.2895 - accuracy: 0.9081 - val_loss: 0.2484 - val_accuracy: 0.9230 - 24s/epoch - 56ms/step\n",
            "Epoch 98/1000\n",
            "\n",
            "Epoch 98: val_accuracy did not improve from 0.94580\n",
            "429/429 - 21s - loss: 0.2900 - accuracy: 0.9081 - val_loss: 0.2274 - val_accuracy: 0.9332 - 21s/epoch - 50ms/step\n",
            "Epoch 99/1000\n",
            "\n",
            "Epoch 99: val_accuracy did not improve from 0.94580\n",
            "429/429 - 20s - loss: 0.2879 - accuracy: 0.9089 - val_loss: 0.2438 - val_accuracy: 0.9204 - 20s/epoch - 46ms/step\n",
            "Epoch 100/1000\n",
            "\n",
            "Epoch 100: val_accuracy improved from 0.94580 to 0.95000, saving model to best_model,keras\n"
          ]
        },
        {
          "name": "stderr",
          "output_type": "stream",
          "text": [
            "WARNING:absl:Found untraced functions such as _jit_compiled_convolution_op, _jit_compiled_convolution_op while saving (showing 2 of 2). These functions will not be directly callable after loading.\n"
          ]
        },
        {
          "name": "stdout",
          "output_type": "stream",
          "text": [
            "INFO:tensorflow:Assets written to: best_model,keras\\assets\n"
          ]
        },
        {
          "name": "stderr",
          "output_type": "stream",
          "text": [
            "INFO:tensorflow:Assets written to: best_model,keras\\assets\n"
          ]
        },
        {
          "name": "stdout",
          "output_type": "stream",
          "text": [
            "429/429 - 21s - loss: 0.2884 - accuracy: 0.9093 - val_loss: 0.1876 - val_accuracy: 0.9500 - 21s/epoch - 49ms/step\n",
            "Epoch 101/1000\n",
            "\n",
            "Epoch 101: val_accuracy did not improve from 0.95000\n",
            "429/429 - 20s - loss: 0.2855 - accuracy: 0.9110 - val_loss: 0.2145 - val_accuracy: 0.9412 - 20s/epoch - 47ms/step\n",
            "Epoch 102/1000\n",
            "\n",
            "Epoch 102: val_accuracy did not improve from 0.95000\n",
            "429/429 - 20s - loss: 0.2844 - accuracy: 0.9096 - val_loss: 0.2160 - val_accuracy: 0.9382 - 20s/epoch - 47ms/step\n",
            "Epoch 103/1000\n",
            "\n",
            "Epoch 103: val_accuracy did not improve from 0.95000\n",
            "429/429 - 21s - loss: 0.2896 - accuracy: 0.9085 - val_loss: 0.2232 - val_accuracy: 0.9286 - 21s/epoch - 48ms/step\n",
            "Epoch 104/1000\n",
            "\n",
            "Epoch 104: val_accuracy did not improve from 0.95000\n",
            "429/429 - 20s - loss: 0.2851 - accuracy: 0.9108 - val_loss: 0.2270 - val_accuracy: 0.9304 - 20s/epoch - 47ms/step\n",
            "Epoch 105/1000\n",
            "\n",
            "Epoch 105: val_accuracy did not improve from 0.95000\n",
            "429/429 - 20s - loss: 0.2806 - accuracy: 0.9114 - val_loss: 0.2071 - val_accuracy: 0.9366 - 20s/epoch - 47ms/step\n",
            "Epoch 106/1000\n",
            "\n",
            "Epoch 106: val_accuracy did not improve from 0.95000\n",
            "429/429 - 21s - loss: 0.2854 - accuracy: 0.9104 - val_loss: 0.2321 - val_accuracy: 0.9270 - 21s/epoch - 48ms/step\n",
            "Epoch 107/1000\n",
            "\n",
            "Epoch 107: val_accuracy did not improve from 0.95000\n",
            "429/429 - 21s - loss: 0.2834 - accuracy: 0.9115 - val_loss: 0.2329 - val_accuracy: 0.9264 - 21s/epoch - 49ms/step\n",
            "Epoch 108/1000\n",
            "\n",
            "Epoch 108: val_accuracy did not improve from 0.95000\n",
            "429/429 - 21s - loss: 0.2854 - accuracy: 0.9109 - val_loss: 0.2357 - val_accuracy: 0.9240 - 21s/epoch - 50ms/step\n",
            "Epoch 109/1000\n",
            "\n",
            "Epoch 109: val_accuracy did not improve from 0.95000\n",
            "429/429 - 22s - loss: 0.2790 - accuracy: 0.9131 - val_loss: 0.2603 - val_accuracy: 0.9150 - 22s/epoch - 51ms/step\n",
            "Epoch 110/1000\n",
            "\n",
            "Epoch 110: val_accuracy did not improve from 0.95000\n",
            "429/429 - 19s - loss: 0.2844 - accuracy: 0.9109 - val_loss: 0.2285 - val_accuracy: 0.9310 - 19s/epoch - 44ms/step\n",
            "Epoch 111/1000\n",
            "\n",
            "Epoch 111: val_accuracy did not improve from 0.95000\n",
            "429/429 - 19s - loss: 0.2808 - accuracy: 0.9127 - val_loss: 0.2004 - val_accuracy: 0.9440 - 19s/epoch - 45ms/step\n",
            "Epoch 112/1000\n",
            "\n",
            "Epoch 112: val_accuracy did not improve from 0.95000\n",
            "429/429 - 19s - loss: 0.2809 - accuracy: 0.9118 - val_loss: 0.2395 - val_accuracy: 0.9280 - 19s/epoch - 43ms/step\n",
            "Epoch 113/1000\n",
            "\n",
            "Epoch 113: val_accuracy did not improve from 0.95000\n",
            "429/429 - 18s - loss: 0.2790 - accuracy: 0.9123 - val_loss: 0.2185 - val_accuracy: 0.9302 - 18s/epoch - 43ms/step\n",
            "Epoch 114/1000\n",
            "\n",
            "Epoch 114: val_accuracy did not improve from 0.95000\n",
            "429/429 - 18s - loss: 0.2824 - accuracy: 0.9114 - val_loss: 0.2119 - val_accuracy: 0.9348 - 18s/epoch - 42ms/step\n",
            "Epoch 115/1000\n",
            "\n",
            "Epoch 115: val_accuracy did not improve from 0.95000\n",
            "429/429 - 18s - loss: 0.2778 - accuracy: 0.9129 - val_loss: 0.2346 - val_accuracy: 0.9278 - 18s/epoch - 42ms/step\n",
            "Epoch 116/1000\n",
            "\n",
            "Epoch 116: val_accuracy did not improve from 0.95000\n",
            "429/429 - 18s - loss: 0.2777 - accuracy: 0.9133 - val_loss: 0.2065 - val_accuracy: 0.9360 - 18s/epoch - 43ms/step\n",
            "Epoch 117/1000\n",
            "\n",
            "Epoch 117: val_accuracy did not improve from 0.95000\n",
            "429/429 - 18s - loss: 0.2798 - accuracy: 0.9126 - val_loss: 0.2149 - val_accuracy: 0.9340 - 18s/epoch - 42ms/step\n",
            "Epoch 118/1000\n",
            "\n",
            "Epoch 118: val_accuracy did not improve from 0.95000\n",
            "429/429 - 19s - loss: 0.2838 - accuracy: 0.9114 - val_loss: 0.2099 - val_accuracy: 0.9384 - 19s/epoch - 44ms/step\n",
            "Epoch 119/1000\n",
            "\n",
            "Epoch 119: val_accuracy did not improve from 0.95000\n",
            "429/429 - 19s - loss: 0.2857 - accuracy: 0.9103 - val_loss: 0.2261 - val_accuracy: 0.9312 - 19s/epoch - 45ms/step\n",
            "Epoch 120/1000\n",
            "\n",
            "Epoch 120: val_accuracy did not improve from 0.95000\n",
            "429/429 - 19s - loss: 0.2824 - accuracy: 0.9110 - val_loss: 0.2039 - val_accuracy: 0.9404 - 19s/epoch - 44ms/step\n",
            "Epoch 121/1000\n",
            "\n",
            "Epoch 121: val_accuracy did not improve from 0.95000\n",
            "429/429 - 19s - loss: 0.2808 - accuracy: 0.9122 - val_loss: 0.2038 - val_accuracy: 0.9380 - 19s/epoch - 45ms/step\n",
            "Epoch 122/1000\n",
            "\n",
            "Epoch 122: val_accuracy did not improve from 0.95000\n",
            "429/429 - 18s - loss: 0.2830 - accuracy: 0.9113 - val_loss: 0.1993 - val_accuracy: 0.9360 - 18s/epoch - 43ms/step\n",
            "Epoch 123/1000\n",
            "\n",
            "Epoch 123: val_accuracy did not improve from 0.95000\n",
            "429/429 - 19s - loss: 0.2810 - accuracy: 0.9129 - val_loss: 0.2137 - val_accuracy: 0.9372 - 19s/epoch - 44ms/step\n",
            "Epoch 124/1000\n",
            "\n",
            "Epoch 124: val_accuracy did not improve from 0.95000\n",
            "429/429 - 19s - loss: 0.2758 - accuracy: 0.9135 - val_loss: 0.2197 - val_accuracy: 0.9334 - 19s/epoch - 44ms/step\n",
            "Epoch 125/1000\n",
            "\n",
            "Epoch 125: val_accuracy did not improve from 0.95000\n",
            "429/429 - 19s - loss: 0.2808 - accuracy: 0.9118 - val_loss: 0.2167 - val_accuracy: 0.9310 - 19s/epoch - 45ms/step\n",
            "Epoch 126/1000\n",
            "\n",
            "Epoch 126: val_accuracy did not improve from 0.95000\n",
            "429/429 - 19s - loss: 0.2820 - accuracy: 0.9125 - val_loss: 0.2137 - val_accuracy: 0.9318 - 19s/epoch - 44ms/step\n",
            "Epoch 127/1000\n",
            "\n",
            "Epoch 127: val_accuracy did not improve from 0.95000\n",
            "429/429 - 20s - loss: 0.2837 - accuracy: 0.9112 - val_loss: 0.2205 - val_accuracy: 0.9342 - 20s/epoch - 47ms/step\n",
            "Epoch 128/1000\n",
            "\n",
            "Epoch 128: val_accuracy did not improve from 0.95000\n",
            "429/429 - 20s - loss: 0.2814 - accuracy: 0.9119 - val_loss: 0.2050 - val_accuracy: 0.9410 - 20s/epoch - 46ms/step\n",
            "Epoch 129/1000\n",
            "\n",
            "Epoch 129: val_accuracy did not improve from 0.95000\n",
            "429/429 - 19s - loss: 0.2808 - accuracy: 0.9121 - val_loss: 0.1986 - val_accuracy: 0.9404 - 19s/epoch - 45ms/step\n",
            "Epoch 130/1000\n",
            "\n",
            "Epoch 130: val_accuracy did not improve from 0.95000\n",
            "429/429 - 19s - loss: 0.2774 - accuracy: 0.9131 - val_loss: 0.2024 - val_accuracy: 0.9454 - 19s/epoch - 45ms/step\n",
            "Epoch 131/1000\n",
            "\n",
            "Epoch 131: val_accuracy did not improve from 0.95000\n",
            "429/429 - 20s - loss: 0.2806 - accuracy: 0.9129 - val_loss: 0.2434 - val_accuracy: 0.9266 - 20s/epoch - 46ms/step\n",
            "Epoch 132/1000\n",
            "\n",
            "Epoch 132: val_accuracy did not improve from 0.95000\n",
            "429/429 - 20s - loss: 0.2775 - accuracy: 0.9137 - val_loss: 0.1919 - val_accuracy: 0.9424 - 20s/epoch - 47ms/step\n",
            "Epoch 133/1000\n",
            "\n",
            "Epoch 133: val_accuracy did not improve from 0.95000\n",
            "429/429 - 20s - loss: 0.2795 - accuracy: 0.9125 - val_loss: 0.2182 - val_accuracy: 0.9350 - 20s/epoch - 47ms/step\n",
            "Epoch 134/1000\n",
            "\n",
            "Epoch 134: val_accuracy did not improve from 0.95000\n",
            "429/429 - 20s - loss: 0.2803 - accuracy: 0.9133 - val_loss: 0.2172 - val_accuracy: 0.9284 - 20s/epoch - 47ms/step\n",
            "Epoch 135/1000\n",
            "\n",
            "Epoch 135: val_accuracy did not improve from 0.95000\n",
            "429/429 - 20s - loss: 0.2784 - accuracy: 0.9121 - val_loss: 0.2126 - val_accuracy: 0.9370 - 20s/epoch - 48ms/step\n",
            "Epoch 136/1000\n",
            "\n",
            "Epoch 136: val_accuracy did not improve from 0.95000\n",
            "429/429 - 21s - loss: 0.2845 - accuracy: 0.9119 - val_loss: 0.2238 - val_accuracy: 0.9350 - 21s/epoch - 48ms/step\n",
            "Epoch 137/1000\n",
            "\n",
            "Epoch 137: val_accuracy did not improve from 0.95000\n",
            "429/429 - 21s - loss: 0.2776 - accuracy: 0.9142 - val_loss: 0.1933 - val_accuracy: 0.9456 - 21s/epoch - 50ms/step\n",
            "Epoch 138/1000\n",
            "\n",
            "Epoch 138: val_accuracy did not improve from 0.95000\n",
            "429/429 - 20s - loss: 0.2770 - accuracy: 0.9130 - val_loss: 0.2251 - val_accuracy: 0.9330 - 20s/epoch - 47ms/step\n",
            "Epoch 139/1000\n",
            "\n",
            "Epoch 139: val_accuracy did not improve from 0.95000\n",
            "429/429 - 22s - loss: 0.2761 - accuracy: 0.9142 - val_loss: 0.2261 - val_accuracy: 0.9330 - 22s/epoch - 52ms/step\n",
            "Epoch 140/1000\n",
            "\n",
            "Epoch 140: val_accuracy did not improve from 0.95000\n",
            "429/429 - 20s - loss: 0.2807 - accuracy: 0.9133 - val_loss: 0.1891 - val_accuracy: 0.9406 - 20s/epoch - 47ms/step\n",
            "Epoch 141/1000\n",
            "\n",
            "Epoch 141: val_accuracy did not improve from 0.95000\n",
            "429/429 - 20s - loss: 0.2782 - accuracy: 0.9139 - val_loss: 0.2218 - val_accuracy: 0.9278 - 20s/epoch - 46ms/step\n",
            "Epoch 142/1000\n",
            "\n",
            "Epoch 142: val_accuracy did not improve from 0.95000\n",
            "429/429 - 20s - loss: 0.2789 - accuracy: 0.9128 - val_loss: 0.2478 - val_accuracy: 0.9234 - 20s/epoch - 46ms/step\n",
            "Epoch 143/1000\n",
            "\n",
            "Epoch 143: val_accuracy did not improve from 0.95000\n",
            "429/429 - 20s - loss: 0.2773 - accuracy: 0.9129 - val_loss: 0.1943 - val_accuracy: 0.9474 - 20s/epoch - 47ms/step\n",
            "Epoch 144/1000\n",
            "\n",
            "Epoch 144: val_accuracy did not improve from 0.95000\n",
            "429/429 - 19s - loss: 0.2821 - accuracy: 0.9120 - val_loss: 0.2583 - val_accuracy: 0.9194 - 19s/epoch - 44ms/step\n",
            "Epoch 145/1000\n",
            "\n",
            "Epoch 145: val_accuracy did not improve from 0.95000\n",
            "429/429 - 18s - loss: 0.2793 - accuracy: 0.9123 - val_loss: 0.2052 - val_accuracy: 0.9392 - 18s/epoch - 43ms/step\n",
            "Epoch 146/1000\n",
            "\n",
            "Epoch 146: val_accuracy did not improve from 0.95000\n",
            "429/429 - 19s - loss: 0.2754 - accuracy: 0.9144 - val_loss: 0.2213 - val_accuracy: 0.9386 - 19s/epoch - 43ms/step\n",
            "Epoch 147/1000\n",
            "\n",
            "Epoch 147: val_accuracy did not improve from 0.95000\n",
            "429/429 - 18s - loss: 0.2792 - accuracy: 0.9108 - val_loss: 0.1844 - val_accuracy: 0.9500 - 18s/epoch - 43ms/step\n",
            "Epoch 148/1000\n",
            "\n",
            "Epoch 148: val_accuracy did not improve from 0.95000\n",
            "429/429 - 19s - loss: 0.2745 - accuracy: 0.9155 - val_loss: 0.1932 - val_accuracy: 0.9422 - 19s/epoch - 44ms/step\n",
            "Epoch 149/1000\n",
            "\n",
            "Epoch 149: val_accuracy did not improve from 0.95000\n",
            "429/429 - 19s - loss: 0.2788 - accuracy: 0.9120 - val_loss: 0.2386 - val_accuracy: 0.9260 - 19s/epoch - 45ms/step\n",
            "Epoch 150/1000\n",
            "\n",
            "Epoch 150: val_accuracy did not improve from 0.95000\n",
            "429/429 - 19s - loss: 0.2766 - accuracy: 0.9134 - val_loss: 0.1913 - val_accuracy: 0.9444 - 19s/epoch - 44ms/step\n",
            "Epoch 151/1000\n",
            "\n",
            "Epoch 151: val_accuracy did not improve from 0.95000\n",
            "429/429 - 19s - loss: 0.2762 - accuracy: 0.9138 - val_loss: 0.2204 - val_accuracy: 0.9306 - 19s/epoch - 44ms/step\n",
            "Epoch 152/1000\n",
            "\n",
            "Epoch 152: val_accuracy did not improve from 0.95000\n",
            "429/429 - 19s - loss: 0.2766 - accuracy: 0.9127 - val_loss: 0.1875 - val_accuracy: 0.9462 - 19s/epoch - 45ms/step\n",
            "Epoch 153/1000\n",
            "\n",
            "Epoch 153: val_accuracy did not improve from 0.95000\n",
            "429/429 - 19s - loss: 0.2782 - accuracy: 0.9120 - val_loss: 0.2039 - val_accuracy: 0.9412 - 19s/epoch - 45ms/step\n",
            "Epoch 154/1000\n",
            "\n",
            "Epoch 154: val_accuracy did not improve from 0.95000\n",
            "429/429 - 21s - loss: 0.2791 - accuracy: 0.9125 - val_loss: 0.2318 - val_accuracy: 0.9272 - 21s/epoch - 50ms/step\n",
            "Epoch 155/1000\n",
            "\n",
            "Epoch 155: val_accuracy did not improve from 0.95000\n",
            "429/429 - 20s - loss: 0.2774 - accuracy: 0.9145 - val_loss: 0.2546 - val_accuracy: 0.9250 - 20s/epoch - 46ms/step\n",
            "Epoch 156/1000\n",
            "\n",
            "Epoch 156: val_accuracy did not improve from 0.95000\n",
            "429/429 - 19s - loss: 0.2789 - accuracy: 0.9137 - val_loss: 0.2378 - val_accuracy: 0.9304 - 19s/epoch - 43ms/step\n",
            "Epoch 157/1000\n",
            "\n",
            "Epoch 157: val_accuracy did not improve from 0.95000\n",
            "429/429 - 19s - loss: 0.2756 - accuracy: 0.9149 - val_loss: 0.1949 - val_accuracy: 0.9430 - 19s/epoch - 44ms/step\n",
            "Epoch 158/1000\n",
            "\n",
            "Epoch 158: val_accuracy did not improve from 0.95000\n",
            "429/429 - 18s - loss: 0.2731 - accuracy: 0.9153 - val_loss: 0.2130 - val_accuracy: 0.9360 - 18s/epoch - 43ms/step\n",
            "Epoch 159/1000\n",
            "\n",
            "Epoch 159: val_accuracy did not improve from 0.95000\n",
            "429/429 - 19s - loss: 0.2761 - accuracy: 0.9142 - val_loss: 0.2226 - val_accuracy: 0.9280 - 19s/epoch - 43ms/step\n",
            "Epoch 160/1000\n",
            "\n",
            "Epoch 160: val_accuracy did not improve from 0.95000\n",
            "429/429 - 18s - loss: 0.2736 - accuracy: 0.9134 - val_loss: 0.2186 - val_accuracy: 0.9326 - 18s/epoch - 43ms/step\n",
            "Epoch 161/1000\n",
            "\n",
            "Epoch 161: val_accuracy did not improve from 0.95000\n",
            "429/429 - 19s - loss: 0.2762 - accuracy: 0.9147 - val_loss: 0.1995 - val_accuracy: 0.9402 - 19s/epoch - 43ms/step\n",
            "Epoch 162/1000\n",
            "\n",
            "Epoch 162: val_accuracy did not improve from 0.95000\n",
            "429/429 - 19s - loss: 0.2785 - accuracy: 0.9125 - val_loss: 0.1940 - val_accuracy: 0.9462 - 19s/epoch - 45ms/step\n",
            "Epoch 163/1000\n",
            "\n",
            "Epoch 163: val_accuracy did not improve from 0.95000\n",
            "429/429 - 19s - loss: 0.2783 - accuracy: 0.9127 - val_loss: 0.2057 - val_accuracy: 0.9392 - 19s/epoch - 45ms/step\n",
            "Epoch 164/1000\n",
            "\n",
            "Epoch 164: val_accuracy did not improve from 0.95000\n",
            "429/429 - 20s - loss: 0.2741 - accuracy: 0.9147 - val_loss: 0.2119 - val_accuracy: 0.9382 - 20s/epoch - 46ms/step\n",
            "Epoch 165/1000\n",
            "\n",
            "Epoch 165: val_accuracy did not improve from 0.95000\n",
            "429/429 - 19s - loss: 0.2778 - accuracy: 0.9132 - val_loss: 0.2003 - val_accuracy: 0.9410 - 19s/epoch - 44ms/step\n",
            "Epoch 166/1000\n",
            "\n",
            "Epoch 166: val_accuracy did not improve from 0.95000\n",
            "429/429 - 20s - loss: 0.2755 - accuracy: 0.9147 - val_loss: 0.1895 - val_accuracy: 0.9458 - 20s/epoch - 46ms/step\n",
            "Epoch 167/1000\n",
            "\n",
            "Epoch 167: val_accuracy did not improve from 0.95000\n",
            "429/429 - 19s - loss: 0.2744 - accuracy: 0.9146 - val_loss: 0.2231 - val_accuracy: 0.9300 - 19s/epoch - 45ms/step\n",
            "Epoch 168/1000\n",
            "\n",
            "Epoch 168: val_accuracy did not improve from 0.95000\n",
            "429/429 - 19s - loss: 0.2757 - accuracy: 0.9130 - val_loss: 0.2119 - val_accuracy: 0.9384 - 19s/epoch - 44ms/step\n",
            "Epoch 169/1000\n",
            "\n",
            "Epoch 169: val_accuracy did not improve from 0.95000\n",
            "429/429 - 17s - loss: 0.2821 - accuracy: 0.9119 - val_loss: 0.2319 - val_accuracy: 0.9284 - 17s/epoch - 40ms/step\n",
            "Epoch 170/1000\n",
            "\n",
            "Epoch 170: val_accuracy did not improve from 0.95000\n",
            "429/429 - 17s - loss: 0.2757 - accuracy: 0.9139 - val_loss: 0.2554 - val_accuracy: 0.9286 - 17s/epoch - 39ms/step\n",
            "Epoch 171/1000\n",
            "\n",
            "Epoch 171: val_accuracy did not improve from 0.95000\n",
            "429/429 - 20s - loss: 0.2724 - accuracy: 0.9135 - val_loss: 0.2042 - val_accuracy: 0.9406 - 20s/epoch - 46ms/step\n",
            "Epoch 172/1000\n",
            "\n",
            "Epoch 172: val_accuracy did not improve from 0.95000\n",
            "429/429 - 19s - loss: 0.2756 - accuracy: 0.9148 - val_loss: 0.2383 - val_accuracy: 0.9256 - 19s/epoch - 44ms/step\n",
            "Epoch 173/1000\n",
            "\n",
            "Epoch 173: val_accuracy did not improve from 0.95000\n",
            "429/429 - 19s - loss: 0.2732 - accuracy: 0.9148 - val_loss: 0.1957 - val_accuracy: 0.9406 - 19s/epoch - 45ms/step\n",
            "Epoch 174/1000\n",
            "\n",
            "Epoch 174: val_accuracy did not improve from 0.95000\n",
            "429/429 - 20s - loss: 0.2747 - accuracy: 0.9135 - val_loss: 0.1937 - val_accuracy: 0.9442 - 20s/epoch - 46ms/step\n",
            "Epoch 175/1000\n",
            "\n",
            "Epoch 175: val_accuracy did not improve from 0.95000\n",
            "429/429 - 19s - loss: 0.2750 - accuracy: 0.9146 - val_loss: 0.2277 - val_accuracy: 0.9288 - 19s/epoch - 45ms/step\n",
            "Epoch 176/1000\n",
            "\n",
            "Epoch 176: val_accuracy did not improve from 0.95000\n",
            "429/429 - 20s - loss: 0.2733 - accuracy: 0.9149 - val_loss: 0.1959 - val_accuracy: 0.9434 - 20s/epoch - 46ms/step\n",
            "Epoch 177/1000\n",
            "\n",
            "Epoch 177: val_accuracy did not improve from 0.95000\n",
            "429/429 - 20s - loss: 0.2768 - accuracy: 0.9120 - val_loss: 0.2134 - val_accuracy: 0.9352 - 20s/epoch - 47ms/step\n",
            "Epoch 178/1000\n",
            "\n",
            "Epoch 178: val_accuracy did not improve from 0.95000\n",
            "429/429 - 20s - loss: 0.2754 - accuracy: 0.9140 - val_loss: 0.2301 - val_accuracy: 0.9348 - 20s/epoch - 47ms/step\n",
            "Epoch 179/1000\n",
            "\n",
            "Epoch 179: val_accuracy did not improve from 0.95000\n",
            "429/429 - 21s - loss: 0.2724 - accuracy: 0.9153 - val_loss: 0.1997 - val_accuracy: 0.9410 - 21s/epoch - 48ms/step\n",
            "Epoch 180/1000\n",
            "\n",
            "Epoch 180: val_accuracy did not improve from 0.95000\n",
            "429/429 - 20s - loss: 0.2743 - accuracy: 0.9133 - val_loss: 0.2239 - val_accuracy: 0.9274 - 20s/epoch - 47ms/step\n",
            "Epoch 181/1000\n",
            "\n",
            "Epoch 181: val_accuracy did not improve from 0.95000\n",
            "429/429 - 23s - loss: 0.2716 - accuracy: 0.9150 - val_loss: 0.2239 - val_accuracy: 0.9318 - 23s/epoch - 53ms/step\n",
            "Epoch 182/1000\n",
            "\n",
            "Epoch 182: val_accuracy did not improve from 0.95000\n",
            "429/429 - 19s - loss: 0.2736 - accuracy: 0.9144 - val_loss: 0.2095 - val_accuracy: 0.9434 - 19s/epoch - 44ms/step\n",
            "Epoch 183/1000\n",
            "\n",
            "Epoch 183: val_accuracy did not improve from 0.95000\n",
            "429/429 - 19s - loss: 0.2748 - accuracy: 0.9149 - val_loss: 0.2123 - val_accuracy: 0.9360 - 19s/epoch - 43ms/step\n",
            "Epoch 184/1000\n",
            "\n",
            "Epoch 184: val_accuracy did not improve from 0.95000\n",
            "429/429 - 18s - loss: 0.2748 - accuracy: 0.9147 - val_loss: 0.2021 - val_accuracy: 0.9398 - 18s/epoch - 43ms/step\n",
            "Epoch 185/1000\n",
            "\n",
            "Epoch 185: val_accuracy did not improve from 0.95000\n",
            "429/429 - 19s - loss: 0.2744 - accuracy: 0.9141 - val_loss: 0.2113 - val_accuracy: 0.9368 - 19s/epoch - 43ms/step\n",
            "Epoch 186/1000\n",
            "\n",
            "Epoch 186: val_accuracy did not improve from 0.95000\n",
            "429/429 - 18s - loss: 0.2729 - accuracy: 0.9131 - val_loss: 0.2269 - val_accuracy: 0.9292 - 18s/epoch - 42ms/step\n",
            "Epoch 187/1000\n",
            "\n",
            "Epoch 187: val_accuracy did not improve from 0.95000\n",
            "429/429 - 19s - loss: 0.2754 - accuracy: 0.9141 - val_loss: 0.2521 - val_accuracy: 0.9198 - 19s/epoch - 43ms/step\n",
            "Epoch 188/1000\n",
            "\n",
            "Epoch 188: val_accuracy did not improve from 0.95000\n",
            "429/429 - 18s - loss: 0.2710 - accuracy: 0.9139 - val_loss: 0.2404 - val_accuracy: 0.9292 - 18s/epoch - 42ms/step\n",
            "Epoch 189/1000\n",
            "\n",
            "Epoch 189: val_accuracy did not improve from 0.95000\n",
            "429/429 - 19s - loss: 0.2780 - accuracy: 0.9127 - val_loss: 0.1889 - val_accuracy: 0.9498 - 19s/epoch - 44ms/step\n",
            "Epoch 190/1000\n",
            "\n",
            "Epoch 190: val_accuracy did not improve from 0.95000\n",
            "429/429 - 19s - loss: 0.2723 - accuracy: 0.9151 - val_loss: 0.2308 - val_accuracy: 0.9320 - 19s/epoch - 45ms/step\n",
            "Epoch 191/1000\n",
            "\n",
            "Epoch 191: val_accuracy did not improve from 0.95000\n",
            "429/429 - 19s - loss: 0.2753 - accuracy: 0.9141 - val_loss: 0.2140 - val_accuracy: 0.9396 - 19s/epoch - 45ms/step\n",
            "Epoch 192/1000\n",
            "\n",
            "Epoch 192: val_accuracy did not improve from 0.95000\n",
            "429/429 - 19s - loss: 0.2737 - accuracy: 0.9164 - val_loss: 0.1863 - val_accuracy: 0.9462 - 19s/epoch - 44ms/step\n",
            "Epoch 193/1000\n",
            "\n",
            "Epoch 193: val_accuracy did not improve from 0.95000\n",
            "429/429 - 19s - loss: 0.2735 - accuracy: 0.9154 - val_loss: 0.2136 - val_accuracy: 0.9354 - 19s/epoch - 45ms/step\n",
            "Epoch 194/1000\n",
            "\n",
            "Epoch 194: val_accuracy did not improve from 0.95000\n",
            "429/429 - 21s - loss: 0.2726 - accuracy: 0.9154 - val_loss: 0.2079 - val_accuracy: 0.9378 - 21s/epoch - 48ms/step\n",
            "Epoch 195/1000\n",
            "\n",
            "Epoch 195: val_accuracy did not improve from 0.95000\n",
            "429/429 - 19s - loss: 0.2736 - accuracy: 0.9162 - val_loss: 0.2275 - val_accuracy: 0.9286 - 19s/epoch - 45ms/step\n",
            "Epoch 196/1000\n",
            "\n",
            "Epoch 196: val_accuracy did not improve from 0.95000\n",
            "429/429 - 19s - loss: 0.2738 - accuracy: 0.9136 - val_loss: 0.2023 - val_accuracy: 0.9434 - 19s/epoch - 45ms/step\n",
            "Epoch 197/1000\n",
            "\n",
            "Epoch 197: val_accuracy did not improve from 0.95000\n",
            "429/429 - 18s - loss: 0.2750 - accuracy: 0.9134 - val_loss: 0.2122 - val_accuracy: 0.9356 - 18s/epoch - 43ms/step\n",
            "Epoch 198/1000\n",
            "\n",
            "Epoch 198: val_accuracy did not improve from 0.95000\n",
            "429/429 - 18s - loss: 0.2712 - accuracy: 0.9154 - val_loss: 0.2160 - val_accuracy: 0.9360 - 18s/epoch - 42ms/step\n",
            "Epoch 199/1000\n",
            "\n",
            "Epoch 199: val_accuracy did not improve from 0.95000\n",
            "429/429 - 19s - loss: 0.2704 - accuracy: 0.9164 - val_loss: 0.2153 - val_accuracy: 0.9362 - 19s/epoch - 45ms/step\n",
            "Epoch 200/1000\n",
            "\n",
            "Epoch 200: val_accuracy did not improve from 0.95000\n",
            "429/429 - 18s - loss: 0.2736 - accuracy: 0.9140 - val_loss: 0.1980 - val_accuracy: 0.9408 - 18s/epoch - 42ms/step\n",
            "Epoch 201/1000\n",
            "\n",
            "Epoch 201: val_accuracy did not improve from 0.95000\n",
            "429/429 - 18s - loss: 0.2752 - accuracy: 0.9137 - val_loss: 0.2103 - val_accuracy: 0.9388 - 18s/epoch - 42ms/step\n",
            "Epoch 202/1000\n",
            "\n",
            "Epoch 202: val_accuracy did not improve from 0.95000\n",
            "429/429 - 18s - loss: 0.2755 - accuracy: 0.9152 - val_loss: 0.1868 - val_accuracy: 0.9476 - 18s/epoch - 42ms/step\n",
            "Epoch 203/1000\n",
            "\n",
            "Epoch 203: val_accuracy did not improve from 0.95000\n",
            "429/429 - 18s - loss: 0.2742 - accuracy: 0.9141 - val_loss: 0.2123 - val_accuracy: 0.9362 - 18s/epoch - 43ms/step\n",
            "Epoch 204/1000\n",
            "\n",
            "Epoch 204: val_accuracy did not improve from 0.95000\n",
            "429/429 - 19s - loss: 0.2692 - accuracy: 0.9162 - val_loss: 0.2087 - val_accuracy: 0.9418 - 19s/epoch - 43ms/step\n",
            "Epoch 205/1000\n",
            "\n",
            "Epoch 205: val_accuracy did not improve from 0.95000\n",
            "429/429 - 19s - loss: 0.2694 - accuracy: 0.9156 - val_loss: 0.2186 - val_accuracy: 0.9368 - 19s/epoch - 43ms/step\n",
            "Epoch 206/1000\n",
            "\n",
            "Epoch 206: val_accuracy did not improve from 0.95000\n",
            "429/429 - 19s - loss: 0.2708 - accuracy: 0.9160 - val_loss: 0.2180 - val_accuracy: 0.9338 - 19s/epoch - 43ms/step\n",
            "Epoch 207/1000\n",
            "\n",
            "Epoch 207: val_accuracy did not improve from 0.95000\n",
            "429/429 - 19s - loss: 0.2742 - accuracy: 0.9149 - val_loss: 0.2060 - val_accuracy: 0.9404 - 19s/epoch - 45ms/step\n",
            "Epoch 208/1000\n",
            "\n",
            "Epoch 208: val_accuracy did not improve from 0.95000\n",
            "429/429 - 19s - loss: 0.2680 - accuracy: 0.9161 - val_loss: 0.1831 - val_accuracy: 0.9498 - 19s/epoch - 45ms/step\n",
            "Epoch 209/1000\n",
            "\n",
            "Epoch 209: val_accuracy did not improve from 0.95000\n",
            "429/429 - 20s - loss: 0.2680 - accuracy: 0.9169 - val_loss: 0.2129 - val_accuracy: 0.9372 - 20s/epoch - 47ms/step\n",
            "Epoch 210/1000\n",
            "\n",
            "Epoch 210: val_accuracy did not improve from 0.95000\n",
            "429/429 - 19s - loss: 0.2704 - accuracy: 0.9151 - val_loss: 0.2266 - val_accuracy: 0.9304 - 19s/epoch - 44ms/step\n",
            "Epoch 211/1000\n",
            "\n",
            "Epoch 211: val_accuracy did not improve from 0.95000\n",
            "429/429 - 21s - loss: 0.2697 - accuracy: 0.9157 - val_loss: 0.2132 - val_accuracy: 0.9336 - 21s/epoch - 49ms/step\n",
            "Epoch 212/1000\n",
            "\n",
            "Epoch 212: val_accuracy did not improve from 0.95000\n",
            "429/429 - 20s - loss: 0.2689 - accuracy: 0.9177 - val_loss: 0.2239 - val_accuracy: 0.9332 - 20s/epoch - 47ms/step\n",
            "Epoch 213/1000\n",
            "\n",
            "Epoch 213: val_accuracy did not improve from 0.95000\n",
            "429/429 - 19s - loss: 0.2691 - accuracy: 0.9156 - val_loss: 0.2131 - val_accuracy: 0.9368 - 19s/epoch - 45ms/step\n",
            "Epoch 214/1000\n",
            "\n",
            "Epoch 214: val_accuracy did not improve from 0.95000\n",
            "429/429 - 17s - loss: 0.2735 - accuracy: 0.9147 - val_loss: 0.2259 - val_accuracy: 0.9312 - 17s/epoch - 39ms/step\n",
            "Epoch 215/1000\n",
            "\n",
            "Epoch 215: val_accuracy did not improve from 0.95000\n",
            "429/429 - 16s - loss: 0.2733 - accuracy: 0.9145 - val_loss: 0.1866 - val_accuracy: 0.9456 - 16s/epoch - 38ms/step\n",
            "Epoch 216/1000\n",
            "\n",
            "Epoch 216: val_accuracy did not improve from 0.95000\n",
            "429/429 - 16s - loss: 0.2696 - accuracy: 0.9162 - val_loss: 0.2173 - val_accuracy: 0.9356 - 16s/epoch - 38ms/step\n",
            "Epoch 217/1000\n",
            "\n",
            "Epoch 217: val_accuracy did not improve from 0.95000\n",
            "429/429 - 16s - loss: 0.2676 - accuracy: 0.9161 - val_loss: 0.1975 - val_accuracy: 0.9404 - 16s/epoch - 38ms/step\n",
            "Epoch 218/1000\n",
            "\n",
            "Epoch 218: val_accuracy did not improve from 0.95000\n",
            "429/429 - 16s - loss: 0.2684 - accuracy: 0.9160 - val_loss: 0.1932 - val_accuracy: 0.9404 - 16s/epoch - 38ms/step\n",
            "Epoch 219/1000\n",
            "\n",
            "Epoch 219: val_accuracy did not improve from 0.95000\n",
            "429/429 - 17s - loss: 0.2728 - accuracy: 0.9158 - val_loss: 0.2049 - val_accuracy: 0.9404 - 17s/epoch - 39ms/step\n",
            "Epoch 220/1000\n",
            "\n",
            "Epoch 220: val_accuracy did not improve from 0.95000\n",
            "429/429 - 17s - loss: 0.2711 - accuracy: 0.9161 - val_loss: 0.2017 - val_accuracy: 0.9406 - 17s/epoch - 39ms/step\n",
            "Epoch 221/1000\n",
            "\n",
            "Epoch 221: val_accuracy did not improve from 0.95000\n",
            "429/429 - 17s - loss: 0.2713 - accuracy: 0.9148 - val_loss: 0.2149 - val_accuracy: 0.9346 - 17s/epoch - 40ms/step\n",
            "Epoch 222/1000\n",
            "\n",
            "Epoch 222: val_accuracy did not improve from 0.95000\n",
            "429/429 - 17s - loss: 0.2721 - accuracy: 0.9148 - val_loss: 0.1992 - val_accuracy: 0.9464 - 17s/epoch - 40ms/step\n",
            "Epoch 223/1000\n",
            "\n",
            "Epoch 223: val_accuracy did not improve from 0.95000\n",
            "429/429 - 16s - loss: 0.2706 - accuracy: 0.9162 - val_loss: 0.2080 - val_accuracy: 0.9370 - 16s/epoch - 38ms/step\n",
            "Epoch 224/1000\n",
            "\n",
            "Epoch 224: val_accuracy did not improve from 0.95000\n",
            "429/429 - 17s - loss: 0.2671 - accuracy: 0.9157 - val_loss: 0.1917 - val_accuracy: 0.9470 - 17s/epoch - 39ms/step\n",
            "Epoch 225/1000\n",
            "\n",
            "Epoch 225: val_accuracy did not improve from 0.95000\n",
            "429/429 - 16s - loss: 0.2679 - accuracy: 0.9170 - val_loss: 0.2180 - val_accuracy: 0.9364 - 16s/epoch - 37ms/step\n",
            "Epoch 226/1000\n",
            "\n",
            "Epoch 226: val_accuracy did not improve from 0.95000\n",
            "429/429 - 16s - loss: 0.2709 - accuracy: 0.9158 - val_loss: 0.2099 - val_accuracy: 0.9378 - 16s/epoch - 38ms/step\n",
            "Epoch 227/1000\n",
            "\n",
            "Epoch 227: val_accuracy did not improve from 0.95000\n",
            "429/429 - 16s - loss: 0.2704 - accuracy: 0.9155 - val_loss: 0.1932 - val_accuracy: 0.9446 - 16s/epoch - 38ms/step\n",
            "Epoch 228/1000\n",
            "\n",
            "Epoch 228: val_accuracy did not improve from 0.95000\n",
            "429/429 - 16s - loss: 0.2690 - accuracy: 0.9156 - val_loss: 0.2068 - val_accuracy: 0.9412 - 16s/epoch - 37ms/step\n",
            "Epoch 229/1000\n",
            "\n",
            "Epoch 229: val_accuracy did not improve from 0.95000\n",
            "429/429 - 16s - loss: 0.2709 - accuracy: 0.9157 - val_loss: 0.2082 - val_accuracy: 0.9372 - 16s/epoch - 37ms/step\n",
            "Epoch 230/1000\n",
            "\n",
            "Epoch 230: val_accuracy did not improve from 0.95000\n",
            "429/429 - 16s - loss: 0.2714 - accuracy: 0.9165 - val_loss: 0.2113 - val_accuracy: 0.9380 - 16s/epoch - 37ms/step\n",
            "Epoch 231/1000\n",
            "\n",
            "Epoch 231: val_accuracy did not improve from 0.95000\n",
            "429/429 - 16s - loss: 0.2685 - accuracy: 0.9175 - val_loss: 0.2010 - val_accuracy: 0.9420 - 16s/epoch - 37ms/step\n",
            "Epoch 232/1000\n",
            "\n",
            "Epoch 232: val_accuracy did not improve from 0.95000\n",
            "429/429 - 16s - loss: 0.2720 - accuracy: 0.9150 - val_loss: 0.2428 - val_accuracy: 0.9318 - 16s/epoch - 37ms/step\n",
            "Epoch 233/1000\n",
            "\n",
            "Epoch 233: val_accuracy did not improve from 0.95000\n",
            "429/429 - 16s - loss: 0.2681 - accuracy: 0.9178 - val_loss: 0.2024 - val_accuracy: 0.9438 - 16s/epoch - 38ms/step\n",
            "Epoch 234/1000\n",
            "\n",
            "Epoch 234: val_accuracy did not improve from 0.95000\n",
            "429/429 - 16s - loss: 0.2704 - accuracy: 0.9156 - val_loss: 0.2035 - val_accuracy: 0.9382 - 16s/epoch - 38ms/step\n",
            "Epoch 235/1000\n",
            "\n",
            "Epoch 235: val_accuracy did not improve from 0.95000\n",
            "429/429 - 16s - loss: 0.2702 - accuracy: 0.9168 - val_loss: 0.2279 - val_accuracy: 0.9308 - 16s/epoch - 38ms/step\n",
            "Epoch 236/1000\n",
            "\n",
            "Epoch 236: val_accuracy did not improve from 0.95000\n",
            "429/429 - 17s - loss: 0.2674 - accuracy: 0.9170 - val_loss: 0.2246 - val_accuracy: 0.9340 - 17s/epoch - 41ms/step\n",
            "Epoch 237/1000\n",
            "\n",
            "Epoch 237: val_accuracy did not improve from 0.95000\n",
            "429/429 - 16s - loss: 0.2700 - accuracy: 0.9165 - val_loss: 0.2332 - val_accuracy: 0.9278 - 16s/epoch - 38ms/step\n",
            "Epoch 238/1000\n",
            "\n",
            "Epoch 238: val_accuracy did not improve from 0.95000\n",
            "429/429 - 16s - loss: 0.2706 - accuracy: 0.9169 - val_loss: 0.1941 - val_accuracy: 0.9430 - 16s/epoch - 37ms/step\n",
            "Epoch 239/1000\n",
            "\n",
            "Epoch 239: val_accuracy did not improve from 0.95000\n",
            "429/429 - 16s - loss: 0.2670 - accuracy: 0.9169 - val_loss: 0.1901 - val_accuracy: 0.9492 - 16s/epoch - 38ms/step\n",
            "Epoch 240/1000\n",
            "\n",
            "Epoch 240: val_accuracy did not improve from 0.95000\n",
            "429/429 - 16s - loss: 0.2676 - accuracy: 0.9172 - val_loss: 0.1957 - val_accuracy: 0.9424 - 16s/epoch - 37ms/step\n",
            "Epoch 241/1000\n",
            "\n",
            "Epoch 241: val_accuracy did not improve from 0.95000\n",
            "429/429 - 16s - loss: 0.2732 - accuracy: 0.9156 - val_loss: 0.1799 - val_accuracy: 0.9492 - 16s/epoch - 37ms/step\n",
            "Epoch 242/1000\n",
            "\n",
            "Epoch 242: val_accuracy did not improve from 0.95000\n",
            "429/429 - 16s - loss: 0.2671 - accuracy: 0.9191 - val_loss: 0.1844 - val_accuracy: 0.9446 - 16s/epoch - 37ms/step\n",
            "Epoch 243/1000\n",
            "\n",
            "Epoch 243: val_accuracy did not improve from 0.95000\n",
            "429/429 - 16s - loss: 0.2703 - accuracy: 0.9159 - val_loss: 0.2320 - val_accuracy: 0.9356 - 16s/epoch - 37ms/step\n",
            "Epoch 244/1000\n",
            "\n",
            "Epoch 244: val_accuracy did not improve from 0.95000\n",
            "429/429 - 16s - loss: 0.2680 - accuracy: 0.9178 - val_loss: 0.2051 - val_accuracy: 0.9404 - 16s/epoch - 37ms/step\n",
            "Epoch 245/1000\n",
            "\n",
            "Epoch 245: val_accuracy did not improve from 0.95000\n",
            "429/429 - 16s - loss: 0.2645 - accuracy: 0.9182 - val_loss: 0.1869 - val_accuracy: 0.9494 - 16s/epoch - 37ms/step\n",
            "Epoch 246/1000\n",
            "\n",
            "Epoch 246: val_accuracy did not improve from 0.95000\n",
            "429/429 - 16s - loss: 0.2709 - accuracy: 0.9165 - val_loss: 0.2049 - val_accuracy: 0.9396 - 16s/epoch - 38ms/step\n",
            "Epoch 247/1000\n",
            "\n",
            "Epoch 247: val_accuracy did not improve from 0.95000\n",
            "429/429 - 16s - loss: 0.2726 - accuracy: 0.9152 - val_loss: 0.2142 - val_accuracy: 0.9346 - 16s/epoch - 38ms/step\n",
            "Epoch 248/1000\n",
            "\n",
            "Epoch 248: val_accuracy did not improve from 0.95000\n",
            "429/429 - 16s - loss: 0.2689 - accuracy: 0.9156 - val_loss: 0.2228 - val_accuracy: 0.9312 - 16s/epoch - 38ms/step\n",
            "Epoch 249/1000\n",
            "\n",
            "Epoch 249: val_accuracy did not improve from 0.95000\n",
            "429/429 - 17s - loss: 0.2666 - accuracy: 0.9172 - val_loss: 0.2054 - val_accuracy: 0.9418 - 17s/epoch - 39ms/step\n",
            "Epoch 250/1000\n",
            "\n",
            "Epoch 250: val_accuracy did not improve from 0.95000\n",
            "429/429 - 16s - loss: 0.2732 - accuracy: 0.9151 - val_loss: 0.2332 - val_accuracy: 0.9258 - 16s/epoch - 38ms/step\n",
            "Epoch 251/1000\n",
            "\n",
            "Epoch 251: val_accuracy did not improve from 0.95000\n",
            "429/429 - 17s - loss: 0.2686 - accuracy: 0.9165 - val_loss: 0.1955 - val_accuracy: 0.9402 - 17s/epoch - 39ms/step\n",
            "Epoch 252/1000\n",
            "\n",
            "Epoch 252: val_accuracy did not improve from 0.95000\n",
            "429/429 - 16s - loss: 0.2640 - accuracy: 0.9181 - val_loss: 0.1931 - val_accuracy: 0.9424 - 16s/epoch - 38ms/step\n",
            "Epoch 253/1000\n",
            "\n",
            "Epoch 253: val_accuracy did not improve from 0.95000\n",
            "429/429 - 16s - loss: 0.2698 - accuracy: 0.9164 - val_loss: 0.1924 - val_accuracy: 0.9428 - 16s/epoch - 37ms/step\n",
            "Epoch 254/1000\n",
            "\n",
            "Epoch 254: val_accuracy did not improve from 0.95000\n",
            "429/429 - 16s - loss: 0.2664 - accuracy: 0.9180 - val_loss: 0.1837 - val_accuracy: 0.9464 - 16s/epoch - 38ms/step\n",
            "Epoch 255/1000\n",
            "\n",
            "Epoch 255: val_accuracy did not improve from 0.95000\n",
            "429/429 - 16s - loss: 0.2693 - accuracy: 0.9168 - val_loss: 0.1913 - val_accuracy: 0.9450 - 16s/epoch - 37ms/step\n",
            "Epoch 256/1000\n",
            "\n",
            "Epoch 256: val_accuracy did not improve from 0.95000\n",
            "429/429 - 16s - loss: 0.2689 - accuracy: 0.9180 - val_loss: 0.1977 - val_accuracy: 0.9408 - 16s/epoch - 37ms/step\n",
            "Epoch 257/1000\n",
            "\n",
            "Epoch 257: val_accuracy did not improve from 0.95000\n",
            "429/429 - 16s - loss: 0.2694 - accuracy: 0.9164 - val_loss: 0.2112 - val_accuracy: 0.9398 - 16s/epoch - 37ms/step\n",
            "Epoch 258/1000\n",
            "\n",
            "Epoch 258: val_accuracy did not improve from 0.95000\n",
            "429/429 - 16s - loss: 0.2696 - accuracy: 0.9165 - val_loss: 0.2066 - val_accuracy: 0.9422 - 16s/epoch - 37ms/step\n",
            "Epoch 259/1000\n",
            "\n",
            "Epoch 259: val_accuracy did not improve from 0.95000\n",
            "429/429 - 16s - loss: 0.2653 - accuracy: 0.9166 - val_loss: 0.2017 - val_accuracy: 0.9398 - 16s/epoch - 37ms/step\n",
            "Epoch 260/1000\n",
            "\n",
            "Epoch 260: val_accuracy did not improve from 0.95000\n",
            "429/429 - 16s - loss: 0.2662 - accuracy: 0.9164 - val_loss: 0.2007 - val_accuracy: 0.9418 - 16s/epoch - 37ms/step\n",
            "Epoch 261/1000\n",
            "\n",
            "Epoch 261: val_accuracy did not improve from 0.95000\n",
            "429/429 - 16s - loss: 0.2712 - accuracy: 0.9159 - val_loss: 0.2083 - val_accuracy: 0.9386 - 16s/epoch - 38ms/step\n",
            "Epoch 262/1000\n",
            "\n",
            "Epoch 262: val_accuracy did not improve from 0.95000\n",
            "429/429 - 16s - loss: 0.2674 - accuracy: 0.9162 - val_loss: 0.2028 - val_accuracy: 0.9418 - 16s/epoch - 38ms/step\n",
            "Epoch 263/1000\n",
            "\n",
            "Epoch 263: val_accuracy did not improve from 0.95000\n",
            "429/429 - 16s - loss: 0.2676 - accuracy: 0.9168 - val_loss: 0.2070 - val_accuracy: 0.9374 - 16s/epoch - 38ms/step\n",
            "Epoch 264/1000\n",
            "\n",
            "Epoch 264: val_accuracy did not improve from 0.95000\n",
            "429/429 - 17s - loss: 0.2715 - accuracy: 0.9154 - val_loss: 0.1977 - val_accuracy: 0.9400 - 17s/epoch - 40ms/step\n",
            "Epoch 265/1000\n",
            "\n",
            "Epoch 265: val_accuracy did not improve from 0.95000\n",
            "429/429 - 17s - loss: 0.2696 - accuracy: 0.9164 - val_loss: 0.1999 - val_accuracy: 0.9444 - 17s/epoch - 39ms/step\n",
            "Epoch 266/1000\n",
            "\n",
            "Epoch 266: val_accuracy did not improve from 0.95000\n",
            "429/429 - 17s - loss: 0.2690 - accuracy: 0.9163 - val_loss: 0.2174 - val_accuracy: 0.9370 - 17s/epoch - 39ms/step\n",
            "Epoch 267/1000\n",
            "\n",
            "Epoch 267: val_accuracy did not improve from 0.95000\n",
            "429/429 - 16s - loss: 0.2703 - accuracy: 0.9167 - val_loss: 0.2007 - val_accuracy: 0.9426 - 16s/epoch - 37ms/step\n",
            "Epoch 268/1000\n",
            "\n",
            "Epoch 268: val_accuracy did not improve from 0.95000\n",
            "429/429 - 16s - loss: 0.2697 - accuracy: 0.9161 - val_loss: 0.2150 - val_accuracy: 0.9374 - 16s/epoch - 38ms/step\n",
            "Epoch 269/1000\n",
            "\n",
            "Epoch 269: val_accuracy did not improve from 0.95000\n",
            "429/429 - 17s - loss: 0.2704 - accuracy: 0.9159 - val_loss: 0.2193 - val_accuracy: 0.9364 - 17s/epoch - 39ms/step\n",
            "Epoch 270/1000\n",
            "\n",
            "Epoch 270: val_accuracy did not improve from 0.95000\n",
            "429/429 - 16s - loss: 0.2673 - accuracy: 0.9181 - val_loss: 0.2108 - val_accuracy: 0.9390 - 16s/epoch - 37ms/step\n",
            "Epoch 271/1000\n",
            "\n",
            "Epoch 271: val_accuracy did not improve from 0.95000\n",
            "429/429 - 16s - loss: 0.2710 - accuracy: 0.9158 - val_loss: 0.1902 - val_accuracy: 0.9470 - 16s/epoch - 37ms/step\n",
            "Epoch 272/1000\n",
            "\n",
            "Epoch 272: val_accuracy did not improve from 0.95000\n",
            "429/429 - 16s - loss: 0.2653 - accuracy: 0.9169 - val_loss: 0.2260 - val_accuracy: 0.9334 - 16s/epoch - 37ms/step\n",
            "Epoch 273/1000\n",
            "\n",
            "Epoch 273: val_accuracy did not improve from 0.95000\n",
            "429/429 - 16s - loss: 0.2667 - accuracy: 0.9162 - val_loss: 0.1852 - val_accuracy: 0.9494 - 16s/epoch - 38ms/step\n",
            "Epoch 274/1000\n",
            "\n",
            "Epoch 274: val_accuracy did not improve from 0.95000\n",
            "429/429 - 16s - loss: 0.2681 - accuracy: 0.9161 - val_loss: 0.2095 - val_accuracy: 0.9392 - 16s/epoch - 38ms/step\n",
            "Epoch 275/1000\n",
            "\n",
            "Epoch 275: val_accuracy did not improve from 0.95000\n",
            "429/429 - 17s - loss: 0.2673 - accuracy: 0.9175 - val_loss: 0.2453 - val_accuracy: 0.9248 - 17s/epoch - 39ms/step\n",
            "Epoch 276/1000\n",
            "\n",
            "Epoch 276: val_accuracy did not improve from 0.95000\n",
            "429/429 - 16s - loss: 0.2712 - accuracy: 0.9162 - val_loss: 0.2073 - val_accuracy: 0.9384 - 16s/epoch - 38ms/step\n",
            "Epoch 277/1000\n",
            "\n",
            "Epoch 277: val_accuracy did not improve from 0.95000\n",
            "429/429 - 17s - loss: 0.2666 - accuracy: 0.9172 - val_loss: 0.2320 - val_accuracy: 0.9306 - 17s/epoch - 39ms/step\n",
            "Epoch 278/1000\n",
            "\n",
            "Epoch 278: val_accuracy did not improve from 0.95000\n",
            "429/429 - 16s - loss: 0.2693 - accuracy: 0.9148 - val_loss: 0.1994 - val_accuracy: 0.9418 - 16s/epoch - 38ms/step\n",
            "Epoch 279/1000\n",
            "\n",
            "Epoch 279: val_accuracy did not improve from 0.95000\n",
            "429/429 - 17s - loss: 0.2637 - accuracy: 0.9181 - val_loss: 0.2268 - val_accuracy: 0.9294 - 17s/epoch - 39ms/step\n",
            "Epoch 280/1000\n",
            "\n",
            "Epoch 280: val_accuracy did not improve from 0.95000\n",
            "429/429 - 17s - loss: 0.2624 - accuracy: 0.9188 - val_loss: 0.2152 - val_accuracy: 0.9394 - 17s/epoch - 39ms/step\n",
            "Epoch 281/1000\n",
            "\n",
            "Epoch 281: val_accuracy did not improve from 0.95000\n",
            "429/429 - 16s - loss: 0.2690 - accuracy: 0.9162 - val_loss: 0.2442 - val_accuracy: 0.9306 - 16s/epoch - 37ms/step\n",
            "Epoch 282/1000\n",
            "\n",
            "Epoch 282: val_accuracy improved from 0.95000 to 0.95320, saving model to best_model,keras\n"
          ]
        },
        {
          "name": "stderr",
          "output_type": "stream",
          "text": [
            "WARNING:absl:Found untraced functions such as _jit_compiled_convolution_op, _jit_compiled_convolution_op while saving (showing 2 of 2). These functions will not be directly callable after loading.\n"
          ]
        },
        {
          "name": "stdout",
          "output_type": "stream",
          "text": [
            "INFO:tensorflow:Assets written to: best_model,keras\\assets\n"
          ]
        },
        {
          "name": "stderr",
          "output_type": "stream",
          "text": [
            "INFO:tensorflow:Assets written to: best_model,keras\\assets\n"
          ]
        },
        {
          "name": "stdout",
          "output_type": "stream",
          "text": [
            "429/429 - 18s - loss: 0.2681 - accuracy: 0.9169 - val_loss: 0.1855 - val_accuracy: 0.9532 - 18s/epoch - 42ms/step\n",
            "Epoch 283/1000\n",
            "\n",
            "Epoch 283: val_accuracy did not improve from 0.95320\n",
            "429/429 - 16s - loss: 0.2644 - accuracy: 0.9175 - val_loss: 0.2083 - val_accuracy: 0.9424 - 16s/epoch - 38ms/step\n",
            "Epoch 284/1000\n",
            "\n",
            "Epoch 284: val_accuracy did not improve from 0.95320\n",
            "429/429 - 16s - loss: 0.2699 - accuracy: 0.9155 - val_loss: 0.1930 - val_accuracy: 0.9482 - 16s/epoch - 37ms/step\n",
            "Epoch 285/1000\n",
            "\n",
            "Epoch 285: val_accuracy did not improve from 0.95320\n",
            "429/429 - 16s - loss: 0.2697 - accuracy: 0.9159 - val_loss: 0.2032 - val_accuracy: 0.9448 - 16s/epoch - 37ms/step\n",
            "Epoch 286/1000\n",
            "\n",
            "Epoch 286: val_accuracy did not improve from 0.95320\n",
            "429/429 - 16s - loss: 0.2680 - accuracy: 0.9176 - val_loss: 0.2483 - val_accuracy: 0.9228 - 16s/epoch - 38ms/step\n",
            "Epoch 287/1000\n",
            "\n",
            "Epoch 287: val_accuracy did not improve from 0.95320\n",
            "429/429 - 17s - loss: 0.2710 - accuracy: 0.9159 - val_loss: 0.1856 - val_accuracy: 0.9490 - 17s/epoch - 39ms/step\n",
            "Epoch 288/1000\n",
            "\n",
            "Epoch 288: val_accuracy did not improve from 0.95320\n",
            "429/429 - 16s - loss: 0.2682 - accuracy: 0.9167 - val_loss: 0.1868 - val_accuracy: 0.9476 - 16s/epoch - 37ms/step\n",
            "Epoch 289/1000\n",
            "\n",
            "Epoch 289: val_accuracy did not improve from 0.95320\n",
            "429/429 - 16s - loss: 0.2667 - accuracy: 0.9179 - val_loss: 0.2173 - val_accuracy: 0.9418 - 16s/epoch - 38ms/step\n",
            "Epoch 290/1000\n",
            "\n",
            "Epoch 290: val_accuracy did not improve from 0.95320\n",
            "429/429 - 16s - loss: 0.2663 - accuracy: 0.9174 - val_loss: 0.2264 - val_accuracy: 0.9278 - 16s/epoch - 38ms/step\n",
            "Epoch 291/1000\n",
            "\n",
            "Epoch 291: val_accuracy did not improve from 0.95320\n",
            "429/429 - 17s - loss: 0.2658 - accuracy: 0.9175 - val_loss: 0.2089 - val_accuracy: 0.9412 - 17s/epoch - 39ms/step\n",
            "Epoch 292/1000\n",
            "\n",
            "Epoch 292: val_accuracy did not improve from 0.95320\n",
            "429/429 - 17s - loss: 0.2683 - accuracy: 0.9167 - val_loss: 0.1954 - val_accuracy: 0.9448 - 17s/epoch - 39ms/step\n",
            "Epoch 293/1000\n",
            "\n",
            "Epoch 293: val_accuracy did not improve from 0.95320\n",
            "429/429 - 19s - loss: 0.2645 - accuracy: 0.9181 - val_loss: 0.1968 - val_accuracy: 0.9450 - 19s/epoch - 44ms/step\n",
            "Epoch 294/1000\n",
            "\n",
            "Epoch 294: val_accuracy did not improve from 0.95320\n",
            "429/429 - 19s - loss: 0.2666 - accuracy: 0.9165 - val_loss: 0.2780 - val_accuracy: 0.9166 - 19s/epoch - 45ms/step\n",
            "Epoch 295/1000\n",
            "\n",
            "Epoch 295: val_accuracy did not improve from 0.95320\n",
            "429/429 - 18s - loss: 0.2688 - accuracy: 0.9159 - val_loss: 0.1946 - val_accuracy: 0.9446 - 18s/epoch - 41ms/step\n",
            "Epoch 296/1000\n",
            "\n",
            "Epoch 296: val_accuracy did not improve from 0.95320\n",
            "429/429 - 18s - loss: 0.2695 - accuracy: 0.9162 - val_loss: 0.2014 - val_accuracy: 0.9456 - 18s/epoch - 42ms/step\n",
            "Epoch 297/1000\n",
            "\n",
            "Epoch 297: val_accuracy did not improve from 0.95320\n",
            "429/429 - 17s - loss: 0.2684 - accuracy: 0.9176 - val_loss: 0.1924 - val_accuracy: 0.9440 - 17s/epoch - 41ms/step\n",
            "Epoch 298/1000\n",
            "\n",
            "Epoch 298: val_accuracy did not improve from 0.95320\n",
            "429/429 - 17s - loss: 0.2701 - accuracy: 0.9159 - val_loss: 0.1986 - val_accuracy: 0.9466 - 17s/epoch - 40ms/step\n",
            "Epoch 299/1000\n",
            "\n",
            "Epoch 299: val_accuracy did not improve from 0.95320\n",
            "429/429 - 18s - loss: 0.2695 - accuracy: 0.9158 - val_loss: 0.2450 - val_accuracy: 0.9260 - 18s/epoch - 41ms/step\n",
            "Epoch 300/1000\n",
            "\n",
            "Epoch 300: val_accuracy did not improve from 0.95320\n",
            "429/429 - 17s - loss: 0.2634 - accuracy: 0.9183 - val_loss: 0.2028 - val_accuracy: 0.9372 - 17s/epoch - 41ms/step\n",
            "Epoch 301/1000\n",
            "\n",
            "Epoch 301: val_accuracy did not improve from 0.95320\n",
            "429/429 - 18s - loss: 0.2665 - accuracy: 0.9178 - val_loss: 0.2057 - val_accuracy: 0.9428 - 18s/epoch - 42ms/step\n",
            "Epoch 302/1000\n",
            "\n",
            "Epoch 302: val_accuracy did not improve from 0.95320\n",
            "429/429 - 18s - loss: 0.2648 - accuracy: 0.9177 - val_loss: 0.2061 - val_accuracy: 0.9426 - 18s/epoch - 41ms/step\n",
            "Epoch 303/1000\n",
            "\n",
            "Epoch 303: val_accuracy did not improve from 0.95320\n",
            "429/429 - 18s - loss: 0.2710 - accuracy: 0.9155 - val_loss: 0.2076 - val_accuracy: 0.9406 - 18s/epoch - 43ms/step\n",
            "Epoch 304/1000\n",
            "\n",
            "Epoch 304: val_accuracy did not improve from 0.95320\n",
            "429/429 - 18s - loss: 0.2661 - accuracy: 0.9166 - val_loss: 0.1959 - val_accuracy: 0.9426 - 18s/epoch - 41ms/step\n",
            "Epoch 305/1000\n",
            "\n",
            "Epoch 305: val_accuracy did not improve from 0.95320\n",
            "429/429 - 19s - loss: 0.2647 - accuracy: 0.9183 - val_loss: 0.2100 - val_accuracy: 0.9328 - 19s/epoch - 44ms/step\n",
            "Epoch 306/1000\n",
            "\n",
            "Epoch 306: val_accuracy did not improve from 0.95320\n",
            "429/429 - 20s - loss: 0.2657 - accuracy: 0.9177 - val_loss: 0.1980 - val_accuracy: 0.9424 - 20s/epoch - 47ms/step\n",
            "Epoch 307/1000\n",
            "\n",
            "Epoch 307: val_accuracy did not improve from 0.95320\n",
            "429/429 - 18s - loss: 0.2642 - accuracy: 0.9186 - val_loss: 0.2040 - val_accuracy: 0.9390 - 18s/epoch - 43ms/step\n",
            "Epoch 308/1000\n",
            "\n",
            "Epoch 308: val_accuracy did not improve from 0.95320\n",
            "429/429 - 19s - loss: 0.2677 - accuracy: 0.9166 - val_loss: 0.1956 - val_accuracy: 0.9460 - 19s/epoch - 43ms/step\n",
            "Epoch 309/1000\n",
            "\n",
            "Epoch 309: val_accuracy did not improve from 0.95320\n",
            "429/429 - 18s - loss: 0.2686 - accuracy: 0.9172 - val_loss: 0.2109 - val_accuracy: 0.9392 - 18s/epoch - 42ms/step\n",
            "Epoch 310/1000\n",
            "\n",
            "Epoch 310: val_accuracy did not improve from 0.95320\n",
            "429/429 - 17s - loss: 0.2615 - accuracy: 0.9192 - val_loss: 0.1992 - val_accuracy: 0.9442 - 17s/epoch - 40ms/step\n",
            "Epoch 311/1000\n",
            "\n",
            "Epoch 311: val_accuracy did not improve from 0.95320\n",
            "429/429 - 18s - loss: 0.2646 - accuracy: 0.9179 - val_loss: 0.1923 - val_accuracy: 0.9442 - 18s/epoch - 42ms/step\n",
            "Epoch 312/1000\n",
            "\n",
            "Epoch 312: val_accuracy did not improve from 0.95320\n",
            "429/429 - 17s - loss: 0.2640 - accuracy: 0.9188 - val_loss: 0.2225 - val_accuracy: 0.9352 - 17s/epoch - 40ms/step\n",
            "Epoch 313/1000\n",
            "\n",
            "Epoch 313: val_accuracy did not improve from 0.95320\n",
            "429/429 - 17s - loss: 0.2691 - accuracy: 0.9158 - val_loss: 0.2149 - val_accuracy: 0.9382 - 17s/epoch - 41ms/step\n",
            "Epoch 314/1000\n",
            "\n",
            "Epoch 314: val_accuracy did not improve from 0.95320\n",
            "429/429 - 18s - loss: 0.2664 - accuracy: 0.9173 - val_loss: 0.2097 - val_accuracy: 0.9374 - 18s/epoch - 41ms/step\n",
            "Epoch 315/1000\n",
            "\n",
            "Epoch 315: val_accuracy did not improve from 0.95320\n",
            "429/429 - 18s - loss: 0.2685 - accuracy: 0.9172 - val_loss: 0.2227 - val_accuracy: 0.9312 - 18s/epoch - 42ms/step\n",
            "Epoch 316/1000\n",
            "\n",
            "Epoch 316: val_accuracy did not improve from 0.95320\n",
            "429/429 - 18s - loss: 0.2662 - accuracy: 0.9178 - val_loss: 0.2000 - val_accuracy: 0.9382 - 18s/epoch - 43ms/step\n",
            "Epoch 317/1000\n",
            "\n",
            "Epoch 317: val_accuracy did not improve from 0.95320\n",
            "429/429 - 18s - loss: 0.2634 - accuracy: 0.9180 - val_loss: 0.2198 - val_accuracy: 0.9344 - 18s/epoch - 43ms/step\n",
            "Epoch 318/1000\n",
            "\n",
            "Epoch 318: val_accuracy did not improve from 0.95320\n",
            "429/429 - 18s - loss: 0.2659 - accuracy: 0.9177 - val_loss: 0.2104 - val_accuracy: 0.9362 - 18s/epoch - 42ms/step\n",
            "Epoch 319/1000\n",
            "\n",
            "Epoch 319: val_accuracy did not improve from 0.95320\n",
            "429/429 - 18s - loss: 0.2649 - accuracy: 0.9176 - val_loss: 0.2341 - val_accuracy: 0.9298 - 18s/epoch - 43ms/step\n",
            "Epoch 320/1000\n",
            "\n",
            "Epoch 320: val_accuracy did not improve from 0.95320\n",
            "429/429 - 19s - loss: 0.2669 - accuracy: 0.9163 - val_loss: 0.2176 - val_accuracy: 0.9348 - 19s/epoch - 44ms/step\n",
            "Epoch 321/1000\n",
            "\n",
            "Epoch 321: val_accuracy did not improve from 0.95320\n",
            "429/429 - 20s - loss: 0.2663 - accuracy: 0.9181 - val_loss: 0.1847 - val_accuracy: 0.9464 - 20s/epoch - 47ms/step\n",
            "Epoch 322/1000\n",
            "\n",
            "Epoch 322: val_accuracy did not improve from 0.95320\n",
            "429/429 - 19s - loss: 0.2676 - accuracy: 0.9172 - val_loss: 0.1968 - val_accuracy: 0.9446 - 19s/epoch - 43ms/step\n",
            "Epoch 323/1000\n",
            "\n",
            "Epoch 323: val_accuracy did not improve from 0.95320\n",
            "429/429 - 17s - loss: 0.2681 - accuracy: 0.9182 - val_loss: 0.2038 - val_accuracy: 0.9380 - 17s/epoch - 41ms/step\n",
            "Epoch 324/1000\n",
            "\n",
            "Epoch 324: val_accuracy did not improve from 0.95320\n",
            "429/429 - 16s - loss: 0.2675 - accuracy: 0.9164 - val_loss: 0.1977 - val_accuracy: 0.9450 - 16s/epoch - 38ms/step\n",
            "Epoch 325/1000\n",
            "\n",
            "Epoch 325: val_accuracy did not improve from 0.95320\n",
            "429/429 - 16s - loss: 0.2631 - accuracy: 0.9168 - val_loss: 0.1965 - val_accuracy: 0.9378 - 16s/epoch - 38ms/step\n",
            "Epoch 326/1000\n",
            "\n",
            "Epoch 326: val_accuracy did not improve from 0.95320\n",
            "429/429 - 16s - loss: 0.2611 - accuracy: 0.9185 - val_loss: 0.2200 - val_accuracy: 0.9368 - 16s/epoch - 38ms/step\n",
            "Epoch 327/1000\n",
            "\n",
            "Epoch 327: val_accuracy did not improve from 0.95320\n",
            "429/429 - 16s - loss: 0.2649 - accuracy: 0.9168 - val_loss: 0.1840 - val_accuracy: 0.9468 - 16s/epoch - 38ms/step\n",
            "Epoch 328/1000\n",
            "\n",
            "Epoch 328: val_accuracy did not improve from 0.95320\n",
            "429/429 - 16s - loss: 0.2624 - accuracy: 0.9184 - val_loss: 0.2019 - val_accuracy: 0.9428 - 16s/epoch - 38ms/step\n",
            "Epoch 329/1000\n",
            "\n",
            "Epoch 329: val_accuracy did not improve from 0.95320\n",
            "429/429 - 17s - loss: 0.2676 - accuracy: 0.9162 - val_loss: 0.1959 - val_accuracy: 0.9426 - 17s/epoch - 39ms/step\n",
            "Epoch 330/1000\n",
            "\n",
            "Epoch 330: val_accuracy did not improve from 0.95320\n",
            "429/429 - 17s - loss: 0.2612 - accuracy: 0.9189 - val_loss: 0.2092 - val_accuracy: 0.9362 - 17s/epoch - 39ms/step\n",
            "Epoch 331/1000\n",
            "\n",
            "Epoch 331: val_accuracy did not improve from 0.95320\n",
            "429/429 - 17s - loss: 0.2646 - accuracy: 0.9175 - val_loss: 0.1921 - val_accuracy: 0.9460 - 17s/epoch - 39ms/step\n",
            "Epoch 332/1000\n",
            "\n",
            "Epoch 332: val_accuracy did not improve from 0.95320\n",
            "429/429 - 17s - loss: 0.2678 - accuracy: 0.9152 - val_loss: 0.2067 - val_accuracy: 0.9404 - 17s/epoch - 39ms/step\n",
            "Epoch 333/1000\n",
            "\n",
            "Epoch 333: val_accuracy did not improve from 0.95320\n",
            "429/429 - 17s - loss: 0.2662 - accuracy: 0.9176 - val_loss: 0.1886 - val_accuracy: 0.9456 - 17s/epoch - 40ms/step\n",
            "Epoch 334/1000\n",
            "\n",
            "Epoch 334: val_accuracy did not improve from 0.95320\n",
            "429/429 - 18s - loss: 0.2654 - accuracy: 0.9172 - val_loss: 0.2022 - val_accuracy: 0.9446 - 18s/epoch - 42ms/step\n",
            "Epoch 335/1000\n",
            "\n",
            "Epoch 335: val_accuracy did not improve from 0.95320\n",
            "429/429 - 18s - loss: 0.2660 - accuracy: 0.9188 - val_loss: 0.1989 - val_accuracy: 0.9418 - 18s/epoch - 41ms/step\n",
            "Epoch 336/1000\n",
            "\n",
            "Epoch 336: val_accuracy did not improve from 0.95320\n",
            "429/429 - 17s - loss: 0.2643 - accuracy: 0.9190 - val_loss: 0.2027 - val_accuracy: 0.9416 - 17s/epoch - 40ms/step\n",
            "Epoch 337/1000\n",
            "\n",
            "Epoch 337: val_accuracy did not improve from 0.95320\n",
            "429/429 - 16s - loss: 0.2660 - accuracy: 0.9172 - val_loss: 0.1915 - val_accuracy: 0.9442 - 16s/epoch - 38ms/step\n",
            "Epoch 338/1000\n",
            "\n",
            "Epoch 338: val_accuracy did not improve from 0.95320\n",
            "429/429 - 16s - loss: 0.2671 - accuracy: 0.9172 - val_loss: 0.1977 - val_accuracy: 0.9418 - 16s/epoch - 38ms/step\n",
            "Epoch 339/1000\n",
            "\n",
            "Epoch 339: val_accuracy did not improve from 0.95320\n",
            "429/429 - 16s - loss: 0.2624 - accuracy: 0.9178 - val_loss: 0.2148 - val_accuracy: 0.9358 - 16s/epoch - 38ms/step\n",
            "Epoch 340/1000\n",
            "\n",
            "Epoch 340: val_accuracy did not improve from 0.95320\n",
            "429/429 - 16s - loss: 0.2677 - accuracy: 0.9178 - val_loss: 0.1948 - val_accuracy: 0.9442 - 16s/epoch - 38ms/step\n",
            "Epoch 341/1000\n",
            "\n",
            "Epoch 341: val_accuracy did not improve from 0.95320\n",
            "429/429 - 18s - loss: 0.2675 - accuracy: 0.9183 - val_loss: 0.1913 - val_accuracy: 0.9472 - 18s/epoch - 42ms/step\n",
            "Epoch 342/1000\n",
            "\n",
            "Epoch 342: val_accuracy did not improve from 0.95320\n",
            "429/429 - 18s - loss: 0.2638 - accuracy: 0.9190 - val_loss: 0.2113 - val_accuracy: 0.9408 - 18s/epoch - 42ms/step\n",
            "Epoch 343/1000\n",
            "\n",
            "Epoch 343: val_accuracy did not improve from 0.95320\n",
            "429/429 - 19s - loss: 0.2639 - accuracy: 0.9186 - val_loss: 0.1891 - val_accuracy: 0.9498 - 19s/epoch - 43ms/step\n",
            "Epoch 344/1000\n",
            "\n",
            "Epoch 344: val_accuracy did not improve from 0.95320\n",
            "429/429 - 19s - loss: 0.2640 - accuracy: 0.9184 - val_loss: 0.2022 - val_accuracy: 0.9400 - 19s/epoch - 43ms/step\n",
            "Epoch 345/1000\n",
            "\n",
            "Epoch 345: val_accuracy did not improve from 0.95320\n",
            "429/429 - 20s - loss: 0.2633 - accuracy: 0.9182 - val_loss: 0.1982 - val_accuracy: 0.9428 - 20s/epoch - 46ms/step\n",
            "Epoch 346/1000\n",
            "\n",
            "Epoch 346: val_accuracy did not improve from 0.95320\n",
            "429/429 - 19s - loss: 0.2673 - accuracy: 0.9170 - val_loss: 0.1937 - val_accuracy: 0.9444 - 19s/epoch - 45ms/step\n",
            "Epoch 347/1000\n",
            "\n",
            "Epoch 347: val_accuracy did not improve from 0.95320\n",
            "429/429 - 19s - loss: 0.2664 - accuracy: 0.9179 - val_loss: 0.1952 - val_accuracy: 0.9402 - 19s/epoch - 45ms/step\n",
            "Epoch 348/1000\n",
            "\n",
            "Epoch 348: val_accuracy did not improve from 0.95320\n",
            "429/429 - 19s - loss: 0.2644 - accuracy: 0.9179 - val_loss: 0.1829 - val_accuracy: 0.9484 - 19s/epoch - 44ms/step\n",
            "Epoch 349/1000\n",
            "\n",
            "Epoch 349: val_accuracy did not improve from 0.95320\n",
            "429/429 - 21s - loss: 0.2631 - accuracy: 0.9198 - val_loss: 0.1801 - val_accuracy: 0.9520 - 21s/epoch - 49ms/step\n",
            "Epoch 350/1000\n",
            "\n",
            "Epoch 350: val_accuracy did not improve from 0.95320\n",
            "429/429 - 19s - loss: 0.2658 - accuracy: 0.9186 - val_loss: 0.2020 - val_accuracy: 0.9414 - 19s/epoch - 44ms/step\n",
            "Epoch 351/1000\n",
            "\n",
            "Epoch 351: val_accuracy did not improve from 0.95320\n",
            "429/429 - 19s - loss: 0.2625 - accuracy: 0.9180 - val_loss: 0.2039 - val_accuracy: 0.9394 - 19s/epoch - 44ms/step\n",
            "Epoch 352/1000\n",
            "\n",
            "Epoch 352: val_accuracy did not improve from 0.95320\n",
            "429/429 - 18s - loss: 0.2629 - accuracy: 0.9173 - val_loss: 0.1796 - val_accuracy: 0.9504 - 18s/epoch - 43ms/step\n",
            "Epoch 353/1000\n",
            "\n",
            "Epoch 353: val_accuracy did not improve from 0.95320\n",
            "429/429 - 18s - loss: 0.2658 - accuracy: 0.9182 - val_loss: 0.2133 - val_accuracy: 0.9408 - 18s/epoch - 42ms/step\n",
            "Epoch 354/1000\n",
            "\n",
            "Epoch 354: val_accuracy did not improve from 0.95320\n",
            "429/429 - 19s - loss: 0.2663 - accuracy: 0.9172 - val_loss: 0.1957 - val_accuracy: 0.9454 - 19s/epoch - 44ms/step\n",
            "Epoch 355/1000\n",
            "\n",
            "Epoch 355: val_accuracy did not improve from 0.95320\n",
            "429/429 - 18s - loss: 0.2656 - accuracy: 0.9174 - val_loss: 0.2065 - val_accuracy: 0.9400 - 18s/epoch - 43ms/step\n",
            "Epoch 356/1000\n",
            "\n",
            "Epoch 356: val_accuracy did not improve from 0.95320\n",
            "429/429 - 19s - loss: 0.2667 - accuracy: 0.9194 - val_loss: 0.1849 - val_accuracy: 0.9480 - 19s/epoch - 43ms/step\n",
            "Epoch 357/1000\n",
            "\n",
            "Epoch 357: val_accuracy did not improve from 0.95320\n",
            "429/429 - 19s - loss: 0.2664 - accuracy: 0.9168 - val_loss: 0.2061 - val_accuracy: 0.9380 - 19s/epoch - 43ms/step\n",
            "Epoch 358/1000\n",
            "\n",
            "Epoch 358: val_accuracy did not improve from 0.95320\n",
            "429/429 - 19s - loss: 0.2654 - accuracy: 0.9177 - val_loss: 0.2072 - val_accuracy: 0.9398 - 19s/epoch - 45ms/step\n",
            "Epoch 359/1000\n",
            "\n",
            "Epoch 359: val_accuracy did not improve from 0.95320\n",
            "429/429 - 20s - loss: 0.2642 - accuracy: 0.9178 - val_loss: 0.2112 - val_accuracy: 0.9352 - 20s/epoch - 46ms/step\n",
            "Epoch 360/1000\n",
            "\n",
            "Epoch 360: val_accuracy did not improve from 0.95320\n",
            "429/429 - 19s - loss: 0.2622 - accuracy: 0.9177 - val_loss: 0.2158 - val_accuracy: 0.9388 - 19s/epoch - 44ms/step\n",
            "Epoch 361/1000\n",
            "\n",
            "Epoch 361: val_accuracy did not improve from 0.95320\n",
            "429/429 - 20s - loss: 0.2630 - accuracy: 0.9192 - val_loss: 0.1927 - val_accuracy: 0.9446 - 20s/epoch - 47ms/step\n",
            "Epoch 362/1000\n",
            "\n",
            "Epoch 362: val_accuracy did not improve from 0.95320\n",
            "429/429 - 19s - loss: 0.2620 - accuracy: 0.9181 - val_loss: 0.1893 - val_accuracy: 0.9458 - 19s/epoch - 45ms/step\n",
            "Epoch 363/1000\n",
            "\n",
            "Epoch 363: val_accuracy did not improve from 0.95320\n",
            "429/429 - 22s - loss: 0.2631 - accuracy: 0.9196 - val_loss: 0.1887 - val_accuracy: 0.9478 - 22s/epoch - 52ms/step\n",
            "Epoch 364/1000\n",
            "\n",
            "Epoch 364: val_accuracy did not improve from 0.95320\n",
            "429/429 - 21s - loss: 0.2621 - accuracy: 0.9192 - val_loss: 0.1867 - val_accuracy: 0.9478 - 21s/epoch - 50ms/step\n",
            "Epoch 365/1000\n",
            "\n",
            "Epoch 365: val_accuracy did not improve from 0.95320\n",
            "429/429 - 18s - loss: 0.2617 - accuracy: 0.9190 - val_loss: 0.2110 - val_accuracy: 0.9388 - 18s/epoch - 42ms/step\n",
            "Epoch 366/1000\n",
            "\n",
            "Epoch 366: val_accuracy did not improve from 0.95320\n",
            "429/429 - 20s - loss: 0.2665 - accuracy: 0.9173 - val_loss: 0.1853 - val_accuracy: 0.9488 - 20s/epoch - 46ms/step\n",
            "Epoch 367/1000\n",
            "\n",
            "Epoch 367: val_accuracy did not improve from 0.95320\n",
            "429/429 - 18s - loss: 0.2636 - accuracy: 0.9177 - val_loss: 0.2086 - val_accuracy: 0.9384 - 18s/epoch - 41ms/step\n",
            "Epoch 368/1000\n",
            "\n",
            "Epoch 368: val_accuracy did not improve from 0.95320\n",
            "429/429 - 18s - loss: 0.2651 - accuracy: 0.9174 - val_loss: 0.2069 - val_accuracy: 0.9402 - 18s/epoch - 42ms/step\n",
            "Epoch 369/1000\n",
            "\n",
            "Epoch 369: val_accuracy did not improve from 0.95320\n",
            "429/429 - 18s - loss: 0.2656 - accuracy: 0.9184 - val_loss: 0.2247 - val_accuracy: 0.9282 - 18s/epoch - 43ms/step\n",
            "Epoch 370/1000\n",
            "\n",
            "Epoch 370: val_accuracy did not improve from 0.95320\n",
            "429/429 - 18s - loss: 0.2600 - accuracy: 0.9194 - val_loss: 0.2349 - val_accuracy: 0.9300 - 18s/epoch - 41ms/step\n",
            "Epoch 371/1000\n",
            "\n",
            "Epoch 371: val_accuracy did not improve from 0.95320\n",
            "429/429 - 18s - loss: 0.2657 - accuracy: 0.9184 - val_loss: 0.1853 - val_accuracy: 0.9458 - 18s/epoch - 43ms/step\n",
            "Epoch 372/1000\n",
            "\n",
            "Epoch 372: val_accuracy did not improve from 0.95320\n",
            "429/429 - 18s - loss: 0.2640 - accuracy: 0.9162 - val_loss: 0.1778 - val_accuracy: 0.9512 - 18s/epoch - 42ms/step\n",
            "Epoch 373/1000\n",
            "\n",
            "Epoch 373: val_accuracy did not improve from 0.95320\n",
            "429/429 - 18s - loss: 0.2697 - accuracy: 0.9165 - val_loss: 0.1979 - val_accuracy: 0.9438 - 18s/epoch - 42ms/step\n",
            "Epoch 374/1000\n",
            "\n",
            "Epoch 374: val_accuracy did not improve from 0.95320\n",
            "429/429 - 19s - loss: 0.2655 - accuracy: 0.9178 - val_loss: 0.1999 - val_accuracy: 0.9390 - 19s/epoch - 44ms/step\n",
            "Epoch 375/1000\n",
            "\n",
            "Epoch 375: val_accuracy did not improve from 0.95320\n",
            "429/429 - 18s - loss: 0.2632 - accuracy: 0.9191 - val_loss: 0.2102 - val_accuracy: 0.9328 - 18s/epoch - 42ms/step\n",
            "Epoch 376/1000\n",
            "\n",
            "Epoch 376: val_accuracy did not improve from 0.95320\n",
            "429/429 - 20s - loss: 0.2647 - accuracy: 0.9170 - val_loss: 0.1986 - val_accuracy: 0.9434 - 20s/epoch - 45ms/step\n",
            "Epoch 377/1000\n",
            "\n",
            "Epoch 377: val_accuracy did not improve from 0.95320\n",
            "429/429 - 42s - loss: 0.2653 - accuracy: 0.9179 - val_loss: 0.1865 - val_accuracy: 0.9478 - 42s/epoch - 98ms/step\n",
            "Epoch 378/1000\n",
            "\n",
            "Epoch 378: val_accuracy did not improve from 0.95320\n",
            "429/429 - 20s - loss: 0.2641 - accuracy: 0.9174 - val_loss: 0.1935 - val_accuracy: 0.9438 - 20s/epoch - 47ms/step\n",
            "Epoch 379/1000\n",
            "\n",
            "Epoch 379: val_accuracy did not improve from 0.95320\n",
            "429/429 - 17s - loss: 0.2608 - accuracy: 0.9181 - val_loss: 0.1929 - val_accuracy: 0.9458 - 17s/epoch - 40ms/step\n",
            "Epoch 380/1000\n",
            "\n",
            "Epoch 380: val_accuracy did not improve from 0.95320\n",
            "429/429 - 18s - loss: 0.2665 - accuracy: 0.9185 - val_loss: 0.1895 - val_accuracy: 0.9456 - 18s/epoch - 41ms/step\n",
            "Epoch 381/1000\n",
            "\n",
            "Epoch 381: val_accuracy did not improve from 0.95320\n",
            "429/429 - 17s - loss: 0.2644 - accuracy: 0.9171 - val_loss: 0.1811 - val_accuracy: 0.9484 - 17s/epoch - 40ms/step\n",
            "Epoch 382/1000\n",
            "\n",
            "Epoch 382: val_accuracy did not improve from 0.95320\n",
            "429/429 - 17s - loss: 0.2608 - accuracy: 0.9193 - val_loss: 0.2024 - val_accuracy: 0.9420 - 17s/epoch - 39ms/step\n",
            "Epoch 383/1000\n",
            "\n",
            "Epoch 383: val_accuracy did not improve from 0.95320\n",
            "429/429 - 17s - loss: 0.2598 - accuracy: 0.9190 - val_loss: 0.2269 - val_accuracy: 0.9282 - 17s/epoch - 39ms/step\n",
            "Epoch 384/1000\n",
            "\n",
            "Epoch 384: val_accuracy did not improve from 0.95320\n",
            "429/429 - 16s - loss: 0.2658 - accuracy: 0.9179 - val_loss: 0.2211 - val_accuracy: 0.9356 - 16s/epoch - 38ms/step\n",
            "Epoch 385/1000\n",
            "\n",
            "Epoch 385: val_accuracy did not improve from 0.95320\n",
            "429/429 - 17s - loss: 0.2636 - accuracy: 0.9182 - val_loss: 0.1889 - val_accuracy: 0.9456 - 17s/epoch - 40ms/step\n",
            "Epoch 386/1000\n",
            "\n",
            "Epoch 386: val_accuracy did not improve from 0.95320\n",
            "429/429 - 21s - loss: 0.2635 - accuracy: 0.9189 - val_loss: 0.1996 - val_accuracy: 0.9412 - 21s/epoch - 50ms/step\n",
            "Epoch 387/1000\n"
          ]
        }
      ],
      "source": [
        "MnistHistory = MnistModel.fit(\n",
        "    datagen.flow(xTrainMnist, yTrainMnist, batch_size=128), \n",
        "    epochs=1000, \n",
        "    validation_data=(xValidMnist, yValidMnist), \n",
        "    callbacks=[CBCheckPoint], \n",
        "    verbose=2, \n",
        "    steps_per_epoch=xTrainMnist.shape[0] // 128\n",
        ")"
      ]
    },
    {
      "cell_type": "markdown",
      "metadata": {},
      "source": [
        "### lets see accuracy of the Mnist model : \n"
      ]
    },
    {
      "cell_type": "markdown",
      "metadata": {},
      "source": [
        "assure the 4 dim"
      ]
    },
    {
      "cell_type": "code",
      "execution_count": null,
      "metadata": {},
      "outputs": [],
      "source": [
        "xTestMnist = np.expand_dims(xTestMnist, axis=-1)"
      ]
    },
    {
      "cell_type": "markdown",
      "metadata": {},
      "source": [
        " Evaluate the model on the test set\n"
      ]
    },
    {
      "cell_type": "code",
      "execution_count": null,
      "metadata": {},
      "outputs": [
        {
          "name": "stdout",
          "output_type": "stream",
          "text": [
            "313/313 [==============================] - 7s 22ms/step - loss: 10.3916 - accuracy: 0.1135\n",
            "Pérdida en el conjunto de prueba: 1039.16%\n",
            "Precisión en el conjunto de prueba: 11.35%\n"
          ]
        }
      ],
      "source": [
        "loss, acc = MnistModel.evaluate(xTestMnist, yTestMnist)\n",
        "print(f\"Pérdida en el conjunto de prueba: {loss * 100:.2f}%\")\n",
        "print(f\"Precisión en el conjunto de prueba: {acc* 100:.2f}%\")"
      ]
    },
    {
      "cell_type": "code",
      "execution_count": null,
      "metadata": {},
      "outputs": [
        {
          "data": {
            "image/png": "[encoded data removed]",
            "text/plain": [
              "<Figure size 640x480 with 1 Axes>"
            ]
          },
          "metadata": {},
          "output_type": "display_data"
        },
        {
          "name": "stdout",
          "output_type": "stream",
          "text": [
            " error  of the model : 1039.16%\n"
          ]
        }
      ],
      "source": [
        "plt.plot(MnistHistory.history['loss'], label='Loss (TRAIN)')\n",
        "plt.plot(MnistHistory.history['val_loss'], label='Loss (VALIDATION)')\n",
        "plt.xlabel('EPOCHS')\n",
        "plt.ylabel('LOSS')\n",
        "plt.title('Loss per epoch')\n",
        "plt.legend()\n",
        "plt.grid()\n",
        "plt.show()\n",
        "print(f\" error  of the model : {loss*100:.2f}%\")\n"
      ]
    },
    {
      "cell_type": "code",
      "execution_count": null,
      "metadata": {},
      "outputs": [
        {
          "data": {
            "image/png": "[encoded data removed]",
            "text/plain": [
              "<Figure size 640x480 with 1 Axes>"
            ]
          },
          "metadata": {},
          "output_type": "display_data"
        },
        {
          "name": "stdout",
          "output_type": "stream",
          "text": [
            "accuracy of the model : 11.35%\n"
          ]
        }
      ],
      "source": [
        "plt.plot(MnistHistory.history['accuracy'], label='accuracy (TRAIN)')\n",
        "plt.plot(MnistHistory.history['val_accuracy'], label='accuracy (VALIDATION)')\n",
        "plt.xlabel('EPOCHS')\n",
        "plt.ylabel('accuracy')\n",
        "plt.title('accuracy per epoch')\n",
        "plt.legend()\n",
        "plt.grid()\n",
        "plt.show()\n",
        "\n",
        "print(f\"accuracy of the model : {acc*100:.2f}%\")\n"
      ]
    },
    {
      "cell_type": "markdown",
      "metadata": {},
      "source": [
        "## proceed with a class prediciton for our random sample"
      ]
    },
    {
      "cell_type": "markdown",
      "metadata": {},
      "source": [
        "use a random variable to our data sample "
      ]
    },
    {
      "cell_type": "code",
      "execution_count": null,
      "metadata": {},
      "outputs": [],
      "source": [
        "id = np.random.choice(xTestMnist.shape[0], 1000, replace=False) \n"
      ]
    },
    {
      "cell_type": "code",
      "execution_count": null,
      "metadata": {},
      "outputs": [
        {
          "name": "stdout",
          "output_type": "stream",
          "text": [
            "1/1 [==============================] - 1s 1s/step\n"
          ]
        }
      ],
      "source": [
        "MnistPredictions = MnistModel.predict(xTestMnist[id[0]:id[0]+1]) # make predictions on the test set"
      ]
    },
    {
      "cell_type": "code",
      "execution_count": null,
      "metadata": {},
      "outputs": [
        {
          "name": "stdout",
          "output_type": "stream",
          "text": [
            "predicted class: [1]\n",
            "rial class:  [0. 0. 0. 0. 0. 0. 0. 0. 0. 1.]\n"
          ]
        },
        {
          "data": {
            "image/png": "[encoded data removed]",
            "text/plain": [
              "<Figure size 640x480 with 1 Axes>"
            ]
          },
          "metadata": {},
          "output_type": "display_data"
        }
      ],
      "source": [
        "predicted_class = np.argmax(MnistPredictions, axis=1)\n",
        "plt.imshow(xTestMnist[id[0]])\n",
        "\n",
        "print(\"predicted class:\" , predicted_class)\n",
        "print(\"rial class: \",yTestMnist[id[0]]) # display the true class of the image"
      ]
    }
  ],
  "metadata": {
    "colab": {
      "collapsed_sections": [
        "icrGGZQg7Kb1"
      ],
      "provenance": []
    },
    "kernelspec": {
      "display_name": "cnnDvlEnv",
      "language": "python",
      "name": "python3"
    },
    "language_info": {
      "codemirror_mode": {
        "name": "ipython",
        "version": 3
      },
      "file_extension": ".py",
      "mimetype": "text/x-python",
      "name": "python",
      "nbconvert_exporter": "python",
      "pygments_lexer": "ipython3",
      "version": "3.9.13"
    }
  },
  "nbformat": 4,
  "nbformat_minor": 0
}
